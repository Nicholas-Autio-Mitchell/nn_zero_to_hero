{
 "cells": [
  {
   "cell_type": "markdown",
   "id": "8e17079a",
   "metadata": {},
   "source": [
    "# Building `micrograd`\n",
    "\n",
    "\n",
    "This is an autodifferentiation library, which can be used to implement backpropagation"
   ]
  },
  {
   "cell_type": "code",
   "execution_count": 264,
   "id": "38eedb2b",
   "metadata": {
    "ExecuteTime": {
     "end_time": "2023-05-24T17:45:59.395761Z",
     "start_time": "2023-05-24T17:45:59.381298Z"
    }
   },
   "outputs": [],
   "source": [
    "import math\n",
    "import random\n",
    "\n",
    "import numpy as np\n",
    "import matplotlib.pyplot as plt\n",
    "\n",
    "from graphviz import Digraph\n",
    "\n",
    "%matplotlib inline"
   ]
  },
  {
   "cell_type": "code",
   "execution_count": 3,
   "id": "a96aa74b",
   "metadata": {
    "ExecuteTime": {
     "end_time": "2023-05-22T06:27:26.564389Z",
     "start_time": "2023-05-22T06:27:26.561028Z"
    }
   },
   "outputs": [
    {
     "data": {
      "text/plain": [
       "20.0"
      ]
     },
     "execution_count": 3,
     "metadata": {},
     "output_type": "execute_result"
    }
   ],
   "source": [
    "def f(x):\n",
    "  return 3*x**2 - 4*x + 5\n",
    "\n",
    "f(3.0)"
   ]
  },
  {
   "cell_type": "code",
   "execution_count": 4,
   "id": "a78907fa",
   "metadata": {
    "ExecuteTime": {
     "end_time": "2023-05-22T06:27:26.880658Z",
     "start_time": "2023-05-22T06:27:26.813271Z"
    }
   },
   "outputs": [
    {
     "data": {
      "text/plain": [
       "[<matplotlib.lines.Line2D at 0x1262b5400>]"
      ]
     },
     "execution_count": 4,
     "metadata": {},
     "output_type": "execute_result"
    },
    {
     "data": {
      "image/png": "[encoded data removed]",
      "text/plain": [
       "<Figure size 640x480 with 1 Axes>"
      ]
     },
     "metadata": {},
     "output_type": "display_data"
    }
   ],
   "source": [
    "X = np.arange(-5, 5, 0.25)\n",
    "Y = f(X)\n",
    "plt.plot(X, Y)"
   ]
  },
  {
   "cell_type": "code",
   "execution_count": 5,
   "id": "cf82bf43",
   "metadata": {
    "ExecuteTime": {
     "end_time": "2023-05-22T06:27:27.486911Z",
     "start_time": "2023-05-22T06:27:27.476457Z"
    }
   },
   "outputs": [
    {
     "name": "stdout",
     "output_type": "stream",
     "text": [
      "gradient at -2.7: -20.200000\n"
     ]
    }
   ],
   "source": [
    "# Finite difference computation of gradient at point\n",
    "# (f(a + h) - f(a)) / h\n",
    "a = -2.7\n",
    "h = 0.0000001   # this should \n",
    "\n",
    "gradient = (f(a + h) - f(a)) / h\n",
    "print(f\"gradient at {a}: {gradient:.6f}\")"
   ]
  },
  {
   "cell_type": "code",
   "execution_count": 6,
   "id": "67c47e75",
   "metadata": {
    "ExecuteTime": {
     "end_time": "2023-05-22T06:27:30.015196Z",
     "start_time": "2023-05-22T06:27:30.010856Z"
    }
   },
   "outputs": [
    {
     "name": "stdout",
     "output_type": "stream",
     "text": [
      "dfdx=-20.200000000000003\n"
     ]
    }
   ],
   "source": [
    "# Analytically:\n",
    "# f = 3*x**2 - 4*x + 5\n",
    "# df/dx = 6*x - 4\n",
    "# Evaluate at x = -2.7\n",
    "dfdx = 6 * (-2.7) -4.0\n",
    "print(f\"{dfdx=}\")\n",
    "\n",
    "# This matches the practical approach of finite differences above (floating point precision)"
   ]
  },
  {
   "cell_type": "markdown",
   "id": "6b654b96",
   "metadata": {},
   "source": [
    "### Implementing a custom numerical type"
   ]
  },
  {
   "cell_type": "code",
   "execution_count": 331,
   "id": "0c519796",
   "metadata": {
    "ExecuteTime": {
     "end_time": "2023-05-24T18:57:58.008496Z",
     "start_time": "2023-05-24T18:57:57.984923Z"
    }
   },
   "outputs": [],
   "source": [
    "class Value:\n",
    "  \"\"\"Data structure to represent numerical types within a neurla network.\n",
    "  \n",
    "  NOTE: each operation has a gradient function, and these _accumulate_ gradients, via the `+=` when adding a gradient.\n",
    "        This is because we might use a value more than once, and call _backward >1 times, and we don't want to \n",
    "        override the gradient values that we already computed. Multivariate chain rule shows gradients accumulate!\n",
    "  \"\"\"\n",
    "  \n",
    "  def __init__(self, data: float, _children: tuple = (), _op=\"\", label=\"?\") -> None:\n",
    "    self.data = data\n",
    "    self.grad = 0.0\n",
    "    self._backward = lambda: None  # default function is a noop\n",
    "    self._prev = set(_children)\n",
    "    self._op = _op\n",
    "    self.label = label\n",
    "    \n",
    "  def __repr__(self) -> str:\n",
    "    return f\"Value(data={self.data}, grad={self.grad}, label={self.label})\"\n",
    "  \n",
    "  def __add__(self, other):\n",
    "    other = other if isinstance(other, Value) else Value(other)\n",
    "    out = Value(data=(self.data + other.data), _children=(self, other), _op=\"+\")\n",
    "    \n",
    "    # Define a backward function that will auto compute and assign gradients based on the + operation\n",
    "    # It should assign gradients to both self and other\n",
    "    def backward_fn():\n",
    "      \"\"\"Implement auto-grad for the `+` operation on two inputs: self and other.\"\"\"\n",
    "      self.grad += out.grad * 1.0\n",
    "      other.grad += out.grad * 1.0\n",
    "    # Store closure fn on object for use later.\n",
    "    out._backward = backward_fn\n",
    "\n",
    "    return out\n",
    "  \n",
    "  def __rmul__(self, other):\n",
    "    \"\"\"Call when python fails to call `__mul__` on `a * b` -> looks to see if rmul is defined on `b`.\"\"\"\n",
    "    # We just swap the order of the operands.\n",
    "    return self * other\n",
    "\n",
    "  def __mul__(self, other):\n",
    "    other = other if isinstance(other, Value) else Value(data=float(other))\n",
    "    mul_result = self.data * other.data\n",
    "    out = Value(data=mul_result, _children=(self, other), _op=\"*\")\n",
    "    \n",
    "    def backward_fn():\n",
    "      \"\"\"Implement auto-grad for the `*` operation on two inputs: self and other.\"\"\"\n",
    "      self.grad += out.grad * other.data\n",
    "      other.grad += out.grad * self.data\n",
    "      \n",
    "    # Store closer fn on object.\n",
    "    out._backward = backward_fn\n",
    "    \n",
    "    return out\n",
    "  \n",
    "  def __radd__(self, other):\n",
    "    return self + other\n",
    "\n",
    "  def __truediv__(self, other) -> \"Value\":\n",
    "    return self * other**-1\n",
    "  \n",
    "  def __sub__(self, other):\n",
    "    return self + (-other)  # self - other\n",
    "  \n",
    "  def __rsub__(self, other):\n",
    "    return -other + self\n",
    "  \n",
    "  def __neg__(self):\n",
    "    return self * -1\n",
    "\n",
    "  def __pow__(self, k) -> \"Value\":\n",
    "    \"\"\"Raise the data to the k'th power\"\"\"\n",
    "    if not isinstance(k, (int, float)):\n",
    "      raise ValueError(f\"Value's `exp` method can only accept integers and float; received: {type(k)=}\")\n",
    "\n",
    "    out = Value(self.data**k, _children=(self,), _op=f\"**{k}\")\n",
    "    \n",
    "    def backward_fn():\n",
    "      # a ** k  ->   (k) * a**(k-1)\n",
    "      # a \n",
    "      local = k * self.data**(k-1)\n",
    "      self.grad += out.grad * local\n",
    "      \n",
    "    out._backward = backward_fn\n",
    "    \n",
    "    return out\n",
    "  \n",
    "  def exp(self):\n",
    "    \"\"\"Exponentiate the data in self.\"\"\"\n",
    "    data = self.data\n",
    "    raw_out = math.exp(data)\n",
    "    out = Value(data=raw_out, _children=(self,), _op=\"exp\")\n",
    "    \n",
    "    def backward_fn():\n",
    "      \"\"\"Implement auto-grad for `exp` on the input: self.\"\"\"\n",
    "      self.grad += out.grad * out.data  # out.data is just the result of math.exp(self.data) - the local derivative\n",
    "      \n",
    "    out._backward = backward_fn\n",
    "\n",
    "    return out\n",
    "\n",
    "  def tanh(self):\n",
    "    # Cheating: out = Value(math.tanh(self.data), _children=(self,), _op=\"tanh\")\n",
    "    # tanh = (e^2x - 1) / (e^2x + 1)\n",
    "    out_raw = (math.exp(2 * self.data) - 1.0) / (math.exp(2 * self.data) + 1.0)\n",
    "    out = Value(out_raw, _children=(self,), _op=\"tanh\")\n",
    "    \n",
    "    def backward_fn():\n",
    "      \"\"\"Implement auto-grad for `tanh` on the input: self.\"\"\"\n",
    "      self.grad += out.grad * (1 - out_raw**2)\n",
    "      \n",
    "    out._backward = backward_fn\n",
    "\n",
    "    return out\n",
    "  \n",
    "  def backward(self):\n",
    "    \"\"\"Execute ._backward for each noe, but only after it has been called on all its own children.\n",
    "    \n",
    "    Computes the topologically sorted list of nodes, recursively backward from v to all children.\n",
    "    \"\"\"\n",
    "    visited = set()\n",
    "    topo = []\n",
    "    def build_topo(v):\n",
    "      if v not in visited:\n",
    "        visited.add(v)\n",
    "        for child in v._prev:\n",
    "          build_topo(child)\n",
    "        topo.append(v)\n",
    "\n",
    "    build_topo(self)\n",
    "    \n",
    "    # We should only call backward ont eh output node itself, where the base case gradient equals zero\n",
    "    self.grad = 1.0\n",
    "    \n",
    "    for node in reversed(topo):\n",
    "      node._backward()"
   ]
  },
  {
   "cell_type": "markdown",
   "id": "3d7dbc57",
   "metadata": {},
   "source": [
    "### Viz code"
   ]
  },
  {
   "cell_type": "code",
   "execution_count": 80,
   "id": "958af415",
   "metadata": {
    "ExecuteTime": {
     "end_time": "2023-05-22T07:11:54.933740Z",
     "start_time": "2023-05-22T07:11:54.926904Z"
    }
   },
   "outputs": [],
   "source": [
    "def trace(root: Value) -> tuple[set, set]:\n",
    "  \"\"\"Build a set of all nodes and adges in a graph, given the root node.\"\"\"\n",
    "  nodes, edges = set(), set()\n",
    "  \n",
    "  def build(v: Value):\n",
    "    \"\"\"Populate the nodes and edges by iterating over the graph, starting at the root.\"\"\"\n",
    "    if v not in nodes:\n",
    "      nodes.add(v)\n",
    "      for child in v._prev:\n",
    "        edges.add((child, v))\n",
    "        build(child)\n",
    "  build(root)\n",
    "  return nodes, edges\n",
    "\n",
    "def draw_dot(root):\n",
    "  dot = Digraph(format=\"svg\", graph_attr={\"rankdir\": \"LR\"})  # LR = left to right\n",
    "  nodes, edges = trace(root)\n",
    "\n",
    "  for n in nodes:\n",
    "    uid = str(id(n))\n",
    "    # for any value int he graph, create a rectangular (\"record\") node for it\n",
    "    dot.node(name=uid, label=f\"{{{n.label} | data: {n.data:.2f}}} | grad: {n.grad:.4f}\", shape=\"record\")\n",
    "    if n._op:\n",
    "      op_uid = uid + n._op\n",
    "      # If this value is the result of some operation, create a node to represent the op\n",
    "      dot.node(name=op_uid, label=n._op)\n",
    "      # ... and connect this node to it\n",
    "      dot.edge(op_uid, uid)\n",
    "      \n",
    "  for n1, n2, in edges:\n",
    "    # Connect n1 to the op node of n2\n",
    "    dot.edge(str(id(n1)), str(id(n2)) + n2._op)\n",
    "    \n",
    "  return dot"
   ]
  },
  {
   "cell_type": "code",
   "execution_count": null,
   "id": "79542202",
   "metadata": {},
   "outputs": [],
   "source": []
  },
  {
   "cell_type": "code",
   "execution_count": 103,
   "id": "7e5e59a7",
   "metadata": {
    "ExecuteTime": {
     "end_time": "2023-05-22T07:57:39.762011Z",
     "start_time": "2023-05-22T07:57:39.757250Z"
    }
   },
   "outputs": [],
   "source": [
    "# Obviously dL/dL is one -> if we change L by h, the change is h -> normalising by h gives 1.\n",
    "L.grad = 1.0\n",
    "\n",
    "# Compute gradient of d\n",
    "# Given: L = d * f\n",
    "dLdd = f\n",
    "dLdf = d\n",
    "\n",
    "d.grad = f.data\n",
    "f.grad = d.data\n",
    "\n",
    "# Go further - derive dL/dc\n",
    "# d = c + e\n",
    "dddc = 1.0\n",
    "ddde = 1.0\n",
    "# dL/dc = dL/dd * dd/dc\n",
    "#  -> dd/dc is the local gradient (node we're coming from to the node we care about)\n",
    "#  -> We apply the chain rule here using the local gradient with the parent gradient\n",
    "#  -> Partial gradient of C = partial gradient of D, times one \n",
    "#  -> backprop through an addition just replicates the gradients back, simply copying/routing them\n",
    "c.grad = d.grad * dddc\n",
    "# By symmetry, the same applies to e\n",
    "e.grad = d.grad * ddde\n",
    "\n",
    "# Backprop from e into a and b\n",
    "# e = a * b\n",
    "deda = b.data\n",
    "dedb = a.data\n",
    "# For a: dL/da = dL/de * de/da\n",
    "a.grad = e.grad * deda\n",
    "# For b: dL/db = dL/de * de/db\n",
    "b.grad = e.grad * dedb"
   ]
  },
  {
   "cell_type": "code",
   "execution_count": 104,
   "id": "09a0c6d7",
   "metadata": {
    "ExecuteTime": {
     "end_time": "2023-05-22T07:58:01.042906Z",
     "start_time": "2023-05-22T07:58:00.960083Z"
    }
   },
   "outputs": [
    {
     "data": {
      "image/svg+xml": [
       "<?xml version=\"1.0\" encoding=\"UTF-8\" standalone=\"no\"?>\n",
       "<!DOCTYPE svg PUBLIC \"-//W3C//DTD SVG 1.1//EN\"\n",
       " \"http://www.w3.org/Graphics/SVG/1.1/DTD/svg11.dtd\">\n",
       "<!-- Generated by graphviz version 8.0.5 (20230430.1635)\n",
       " -->\n",
       "<!-- Pages: 1 -->\n",
       "<svg width=\"776pt\" height=\"160pt\"\n",
       " viewBox=\"0.00 0.00 775.75 160.00\" xmlns=\"http://www.w3.org/2000/svg\" xmlns:xlink=\"http://www.w3.org/1999/xlink\">\n",
       "<g id=\"graph0\" class=\"graph\" transform=\"scale(1 1) rotate(0) translate(4 156)\">\n",
       "<polygon fill=\"white\" stroke=\"none\" points=\"-4,4 -4,-156 771.75,-156 771.75,4 -4,4\"/>\n",
       "<!-- 5217822272 -->\n",
       "<g id=\"node1\" class=\"node\">\n",
       "<title>5217822272</title>\n",
       "<polygon fill=\"none\" stroke=\"black\" points=\"448,-102.5 448,-151.5 543,-151.5 543,-102.5 448,-102.5\"/>\n",
       "<text text-anchor=\"middle\" x=\"458.25\" y=\"-134.2\" font-family=\"Times,serif\" font-size=\"14.00\">f</text>\n",
       "<polyline fill=\"none\" stroke=\"black\" points=\"468.5,-127 468.5,-151.5\"/>\n",
       "<text text-anchor=\"middle\" x=\"505.75\" y=\"-134.2\" font-family=\"Times,serif\" font-size=\"14.00\">data: &#45;2.00</text>\n",
       "<polyline fill=\"none\" stroke=\"black\" points=\"448,-127 543,-127\"/>\n",
       "<text text-anchor=\"middle\" x=\"495.5\" y=\"-109.7\" font-family=\"Times,serif\" font-size=\"14.00\">grad: 4.0000</text>\n",
       "</g>\n",
       "<!-- 5217823088* -->\n",
       "<g id=\"node9\" class=\"node\">\n",
       "<title>5217823088*</title>\n",
       "<ellipse fill=\"none\" stroke=\"black\" cx=\"606\" cy=\"-93\" rx=\"27\" ry=\"18\"/>\n",
       "<text text-anchor=\"middle\" x=\"606\" y=\"-87.95\" font-family=\"Times,serif\" font-size=\"14.00\">*</text>\n",
       "</g>\n",
       "<!-- 5217822272&#45;&gt;5217823088* -->\n",
       "<g id=\"edge5\" class=\"edge\">\n",
       "<title>5217822272&#45;&gt;5217823088*</title>\n",
       "<path fill=\"none\" stroke=\"black\" d=\"M542.83,-112.48C552.16,-109.56 561.82,-106.53 570.66,-103.76\"/>\n",
       "<polygon fill=\"black\" stroke=\"black\" points=\"571.46,-106.86 579.96,-100.53 569.37,-100.18 571.46,-106.86\"/>\n",
       "</g>\n",
       "<!-- 5223688848 -->\n",
       "<g id=\"node2\" class=\"node\">\n",
       "<title>5223688848</title>\n",
       "<polygon fill=\"none\" stroke=\"black\" points=\"449.12,-34.5 449.12,-83.5 541.88,-83.5 541.88,-34.5 449.12,-34.5\"/>\n",
       "<text text-anchor=\"middle\" x=\"460.5\" y=\"-66.2\" font-family=\"Times,serif\" font-size=\"14.00\">d</text>\n",
       "<polyline fill=\"none\" stroke=\"black\" points=\"471.88,-59 471.88,-83.5\"/>\n",
       "<text text-anchor=\"middle\" x=\"506.88\" y=\"-66.2\" font-family=\"Times,serif\" font-size=\"14.00\">data: 4.00</text>\n",
       "<polyline fill=\"none\" stroke=\"black\" points=\"449.12,-59 541.88,-59\"/>\n",
       "<text text-anchor=\"middle\" x=\"495.5\" y=\"-41.7\" font-family=\"Times,serif\" font-size=\"14.00\">grad: &#45;2.0000</text>\n",
       "</g>\n",
       "<!-- 5223688848&#45;&gt;5217823088* -->\n",
       "<g id=\"edge4\" class=\"edge\">\n",
       "<title>5223688848&#45;&gt;5217823088*</title>\n",
       "<path fill=\"none\" stroke=\"black\" d=\"M541.57,-73.12C551.28,-76.17 561.39,-79.33 570.62,-82.23\"/>\n",
       "<polygon fill=\"black\" stroke=\"black\" points=\"569.37,-85.82 579.96,-85.47 571.46,-79.14 569.37,-85.82\"/>\n",
       "</g>\n",
       "<!-- 5223688848+ -->\n",
       "<g id=\"node3\" class=\"node\">\n",
       "<title>5223688848+</title>\n",
       "<ellipse fill=\"none\" stroke=\"black\" cx=\"385\" cy=\"-59\" rx=\"27\" ry=\"18\"/>\n",
       "<text text-anchor=\"middle\" x=\"385\" y=\"-53.95\" font-family=\"Times,serif\" font-size=\"14.00\">+</text>\n",
       "</g>\n",
       "<!-- 5223688848+&#45;&gt;5223688848 -->\n",
       "<g id=\"edge1\" class=\"edge\">\n",
       "<title>5223688848+&#45;&gt;5223688848</title>\n",
       "<path fill=\"none\" stroke=\"black\" d=\"M412.26,-59C420.29,-59 429.44,-59 438.65,-59\"/>\n",
       "<polygon fill=\"black\" stroke=\"black\" points=\"438.42,-62.5 448.42,-59 438.42,-55.5 438.42,-62.5\"/>\n",
       "</g>\n",
       "<!-- 5223190240 -->\n",
       "<g id=\"node4\" class=\"node\">\n",
       "<title>5223190240</title>\n",
       "<polygon fill=\"none\" stroke=\"black\" points=\"224.38,-68.5 224.38,-117.5 320.88,-117.5 320.88,-68.5 224.38,-68.5\"/>\n",
       "<text text-anchor=\"middle\" x=\"235.38\" y=\"-100.2\" font-family=\"Times,serif\" font-size=\"14.00\">e</text>\n",
       "<polyline fill=\"none\" stroke=\"black\" points=\"246.38,-93 246.38,-117.5\"/>\n",
       "<text text-anchor=\"middle\" x=\"283.62\" y=\"-100.2\" font-family=\"Times,serif\" font-size=\"14.00\">data: &#45;6.00</text>\n",
       "<polyline fill=\"none\" stroke=\"black\" points=\"224.38,-93 320.88,-93\"/>\n",
       "<text text-anchor=\"middle\" x=\"272.62\" y=\"-75.7\" font-family=\"Times,serif\" font-size=\"14.00\">grad: &#45;2.0000</text>\n",
       "</g>\n",
       "<!-- 5223190240&#45;&gt;5223688848+ -->\n",
       "<g id=\"edge6\" class=\"edge\">\n",
       "<title>5223190240&#45;&gt;5223688848+</title>\n",
       "<path fill=\"none\" stroke=\"black\" d=\"M320.75,-78.48C330.44,-75.5 340.46,-72.41 349.6,-69.6\"/>\n",
       "<polygon fill=\"black\" stroke=\"black\" points=\"350.31,-72.73 358.84,-66.44 348.25,-66.04 350.31,-72.73\"/>\n",
       "</g>\n",
       "<!-- 5223190240* -->\n",
       "<g id=\"node5\" class=\"node\">\n",
       "<title>5223190240*</title>\n",
       "<ellipse fill=\"none\" stroke=\"black\" cx=\"160.25\" cy=\"-93\" rx=\"27\" ry=\"18\"/>\n",
       "<text text-anchor=\"middle\" x=\"160.25\" y=\"-87.95\" font-family=\"Times,serif\" font-size=\"14.00\">*</text>\n",
       "</g>\n",
       "<!-- 5223190240*&#45;&gt;5223190240 -->\n",
       "<g id=\"edge2\" class=\"edge\">\n",
       "<title>5223190240*&#45;&gt;5223190240</title>\n",
       "<path fill=\"none\" stroke=\"black\" d=\"M187.69,-93C195.66,-93 204.75,-93 213.93,-93\"/>\n",
       "<polygon fill=\"black\" stroke=\"black\" points=\"213.69,-96.5 223.69,-93 213.69,-89.5 213.69,-96.5\"/>\n",
       "</g>\n",
       "<!-- 5223187168 -->\n",
       "<g id=\"node6\" class=\"node\">\n",
       "<title>5223187168</title>\n",
       "<polygon fill=\"none\" stroke=\"black\" points=\"0,-102.5 0,-151.5 97.25,-151.5 97.25,-102.5 0,-102.5\"/>\n",
       "<text text-anchor=\"middle\" x=\"11.38\" y=\"-134.2\" font-family=\"Times,serif\" font-size=\"14.00\">b</text>\n",
       "<polyline fill=\"none\" stroke=\"black\" points=\"22.75,-127 22.75,-151.5\"/>\n",
       "<text text-anchor=\"middle\" x=\"60\" y=\"-134.2\" font-family=\"Times,serif\" font-size=\"14.00\">data: &#45;3.00</text>\n",
       "<polyline fill=\"none\" stroke=\"black\" points=\"0,-127 97.25,-127\"/>\n",
       "<text text-anchor=\"middle\" x=\"48.62\" y=\"-109.7\" font-family=\"Times,serif\" font-size=\"14.00\">grad: &#45;4.0000</text>\n",
       "</g>\n",
       "<!-- 5223187168&#45;&gt;5223190240* -->\n",
       "<g id=\"edge7\" class=\"edge\">\n",
       "<title>5223187168&#45;&gt;5223190240*</title>\n",
       "<path fill=\"none\" stroke=\"black\" d=\"M97.07,-112.28C106.45,-109.38 116.12,-106.38 124.96,-103.63\"/>\n",
       "<polygon fill=\"black\" stroke=\"black\" points=\"125.74,-106.75 134.26,-100.44 123.67,-100.06 125.74,-106.75\"/>\n",
       "</g>\n",
       "<!-- 5224141056 -->\n",
       "<g id=\"node7\" class=\"node\">\n",
       "<title>5224141056</title>\n",
       "<polygon fill=\"none\" stroke=\"black\" points=\"2.62,-34.5 2.62,-83.5 94.62,-83.5 94.62,-34.5 2.62,-34.5\"/>\n",
       "<text text-anchor=\"middle\" x=\"13.62\" y=\"-66.2\" font-family=\"Times,serif\" font-size=\"14.00\">a</text>\n",
       "<polyline fill=\"none\" stroke=\"black\" points=\"24.62,-59 24.62,-83.5\"/>\n",
       "<text text-anchor=\"middle\" x=\"59.62\" y=\"-66.2\" font-family=\"Times,serif\" font-size=\"14.00\">data: 2.00</text>\n",
       "<polyline fill=\"none\" stroke=\"black\" points=\"2.62,-59 94.62,-59\"/>\n",
       "<text text-anchor=\"middle\" x=\"48.62\" y=\"-41.7\" font-family=\"Times,serif\" font-size=\"14.00\">grad: 6.0000</text>\n",
       "</g>\n",
       "<!-- 5224141056&#45;&gt;5223190240* -->\n",
       "<g id=\"edge8\" class=\"edge\">\n",
       "<title>5224141056&#45;&gt;5223190240*</title>\n",
       "<path fill=\"none\" stroke=\"black\" d=\"M94.53,-72.93C104.67,-76.07 115.28,-79.36 124.9,-82.35\"/>\n",
       "<polygon fill=\"black\" stroke=\"black\" points=\"123.68,-85.94 134.27,-85.56 125.76,-79.26 123.68,-85.94\"/>\n",
       "</g>\n",
       "<!-- 5217823088 -->\n",
       "<g id=\"node8\" class=\"node\">\n",
       "<title>5217823088</title>\n",
       "<polygon fill=\"none\" stroke=\"black\" points=\"669,-68.5 669,-117.5 767.75,-117.5 767.75,-68.5 669,-68.5\"/>\n",
       "<text text-anchor=\"middle\" x=\"681.12\" y=\"-100.2\" font-family=\"Times,serif\" font-size=\"14.00\">L</text>\n",
       "<polyline fill=\"none\" stroke=\"black\" points=\"693.25,-93 693.25,-117.5\"/>\n",
       "<text text-anchor=\"middle\" x=\"730.5\" y=\"-100.2\" font-family=\"Times,serif\" font-size=\"14.00\">data: &#45;8.00</text>\n",
       "<polyline fill=\"none\" stroke=\"black\" points=\"669,-93 767.75,-93\"/>\n",
       "<text text-anchor=\"middle\" x=\"718.38\" y=\"-75.7\" font-family=\"Times,serif\" font-size=\"14.00\">grad: 1.0000</text>\n",
       "</g>\n",
       "<!-- 5217823088*&#45;&gt;5217823088 -->\n",
       "<g id=\"edge3\" class=\"edge\">\n",
       "<title>5217823088*&#45;&gt;5217823088</title>\n",
       "<path fill=\"none\" stroke=\"black\" d=\"M633.44,-93C640.97,-93 649.5,-93 658.15,-93\"/>\n",
       "<polygon fill=\"black\" stroke=\"black\" points=\"658.13,-96.5 668.13,-93 658.13,-89.5 658.13,-96.5\"/>\n",
       "</g>\n",
       "<!-- 5223187840 -->\n",
       "<g id=\"node10\" class=\"node\">\n",
       "<title>5223187840</title>\n",
       "<polygon fill=\"none\" stroke=\"black\" points=\"223.25,-0.5 223.25,-49.5 322,-49.5 322,-0.5 223.25,-0.5\"/>\n",
       "<text text-anchor=\"middle\" x=\"234.25\" y=\"-32.2\" font-family=\"Times,serif\" font-size=\"14.00\">c</text>\n",
       "<polyline fill=\"none\" stroke=\"black\" points=\"245.25,-25 245.25,-49.5\"/>\n",
       "<text text-anchor=\"middle\" x=\"283.62\" y=\"-32.2\" font-family=\"Times,serif\" font-size=\"14.00\">data: 10.00</text>\n",
       "<polyline fill=\"none\" stroke=\"black\" points=\"223.25,-25 322,-25\"/>\n",
       "<text text-anchor=\"middle\" x=\"272.62\" y=\"-7.7\" font-family=\"Times,serif\" font-size=\"14.00\">grad: &#45;2.0000</text>\n",
       "</g>\n",
       "<!-- 5223187840&#45;&gt;5223688848+ -->\n",
       "<g id=\"edge9\" class=\"edge\">\n",
       "<title>5223187840&#45;&gt;5223688848+</title>\n",
       "<path fill=\"none\" stroke=\"black\" d=\"M321.72,-39.81C331.13,-42.71 340.83,-45.7 349.69,-48.43\"/>\n",
       "<polygon fill=\"black\" stroke=\"black\" points=\"348.41,-52.01 358.99,-51.61 350.47,-45.32 348.41,-52.01\"/>\n",
       "</g>\n",
       "</g>\n",
       "</svg>\n"
      ],
      "text/plain": [
       "<graphviz.graphs.Digraph at 0x1373a9cd0>"
      ]
     },
     "execution_count": 104,
     "metadata": {},
     "output_type": "execute_result"
    }
   ],
   "source": [
    "draw_dot(L)"
   ]
  },
  {
   "cell_type": "code",
   "execution_count": 239,
   "id": "69f3ed6a",
   "metadata": {
    "ExecuteTime": {
     "end_time": "2023-05-24T17:10:31.850357Z",
     "start_time": "2023-05-24T17:10:31.837478Z"
    }
   },
   "outputs": [],
   "source": [
    "# Example of single neuron\n",
    "# Inputs: x1, x2\n",
    "x1 = Value(2.0, label=\"x1\")\n",
    "x2 = Value(0.0, label=\"x2\")\n",
    "# Weights: w1, w2\n",
    "w1 = Value(-3.0, label=\"w1\")\n",
    "w2 = Value(1.0, label=\"w2\")\n",
    "# Bias of the neuron: b\n",
    "b = Value(6.8813735870195432, label=\"b\")\n",
    "\n",
    "# Replicate the process of a neuron: sum(inputs*weights) + b\n",
    "x1w1 = x1 * w1; x1w1.label = \"x1w1\"\n",
    "x2w2 = x2 * w2; x2w2.label = \"x2w2\"\n",
    "x1w1x2w2 = x1w1 + x2w2; x1w1x2w2.label = \"x1w1x2w2\"\n",
    "n = x1w1x2w2 + b; n.label = \"n\"\n",
    "\n",
    "# Now apply activation function: tanh\n",
    "o = n.tanh(); o.label = \"o\"\n",
    "\n",
    "o.backward()"
   ]
  },
  {
   "cell_type": "code",
   "execution_count": 240,
   "id": "a9818e29",
   "metadata": {
    "ExecuteTime": {
     "end_time": "2023-05-24T17:10:32.537608Z",
     "start_time": "2023-05-24T17:10:32.448136Z"
    }
   },
   "outputs": [
    {
     "data": {
      "image/svg+xml": [
       "<?xml version=\"1.0\" encoding=\"UTF-8\" standalone=\"no\"?>\n",
       "<!DOCTYPE svg PUBLIC \"-//W3C//DTD SVG 1.1//EN\"\n",
       " \"http://www.w3.org/Graphics/SVG/1.1/DTD/svg11.dtd\">\n",
       "<!-- Generated by graphviz version 8.0.5 (20230430.1635)\n",
       " -->\n",
       "<!-- Pages: 1 -->\n",
       "<svg width=\"1076pt\" height=\"262pt\"\n",
       " viewBox=\"0.00 0.00 1075.50 262.00\" xmlns=\"http://www.w3.org/2000/svg\" xmlns:xlink=\"http://www.w3.org/1999/xlink\">\n",
       "<g id=\"graph0\" class=\"graph\" transform=\"scale(1 1) rotate(0) translate(4 258)\">\n",
       "<polygon fill=\"white\" stroke=\"none\" points=\"-4,4 -4,-258 1071.5,-258 1071.5,4 -4,4\"/>\n",
       "<!-- 4938298896 -->\n",
       "<g id=\"node1\" class=\"node\">\n",
       "<title>4938298896</title>\n",
       "<polygon fill=\"none\" stroke=\"black\" points=\"479.5,-102.5 479.5,-151.5 630,-151.5 630,-102.5 479.5,-102.5\"/>\n",
       "<text text-anchor=\"middle\" x=\"517.5\" y=\"-134.2\" font-family=\"Times,serif\" font-size=\"14.00\">x1w1x2w2</text>\n",
       "<polyline fill=\"none\" stroke=\"black\" points=\"555.5,-127 555.5,-151.5\"/>\n",
       "<text text-anchor=\"middle\" x=\"592.75\" y=\"-134.2\" font-family=\"Times,serif\" font-size=\"14.00\">data: &#45;6.00</text>\n",
       "<polyline fill=\"none\" stroke=\"black\" points=\"479.5,-127 630,-127\"/>\n",
       "<text text-anchor=\"middle\" x=\"554.75\" y=\"-109.7\" font-family=\"Times,serif\" font-size=\"14.00\">grad: 0.5000</text>\n",
       "</g>\n",
       "<!-- 5226380112+ -->\n",
       "<g id=\"node11\" class=\"node\">\n",
       "<title>5226380112+</title>\n",
       "<ellipse fill=\"none\" stroke=\"black\" cx=\"693\" cy=\"-161\" rx=\"27\" ry=\"18\"/>\n",
       "<text text-anchor=\"middle\" x=\"693\" y=\"-155.95\" font-family=\"Times,serif\" font-size=\"14.00\">+</text>\n",
       "</g>\n",
       "<!-- 4938298896&#45;&gt;5226380112+ -->\n",
       "<g id=\"edge12\" class=\"edge\">\n",
       "<title>4938298896&#45;&gt;5226380112+</title>\n",
       "<path fill=\"none\" stroke=\"black\" d=\"M629.86,-145.49C639.23,-147.83 648.45,-150.13 656.8,-152.22\"/>\n",
       "<polygon fill=\"black\" stroke=\"black\" points=\"655.67,-155.79 666.22,-154.82 657.37,-149 655.67,-155.79\"/>\n",
       "</g>\n",
       "<!-- 4938298896+ -->\n",
       "<g id=\"node2\" class=\"node\">\n",
       "<title>4938298896+</title>\n",
       "<ellipse fill=\"none\" stroke=\"black\" cx=\"416.5\" cy=\"-127\" rx=\"27\" ry=\"18\"/>\n",
       "<text text-anchor=\"middle\" x=\"416.5\" y=\"-121.95\" font-family=\"Times,serif\" font-size=\"14.00\">+</text>\n",
       "</g>\n",
       "<!-- 4938298896+&#45;&gt;4938298896 -->\n",
       "<g id=\"edge1\" class=\"edge\">\n",
       "<title>4938298896+&#45;&gt;4938298896</title>\n",
       "<path fill=\"none\" stroke=\"black\" d=\"M443.77,-127C451.27,-127 459.88,-127 468.91,-127\"/>\n",
       "<polygon fill=\"black\" stroke=\"black\" points=\"468.66,-130.5 478.66,-127 468.66,-123.5 468.66,-130.5\"/>\n",
       "</g>\n",
       "<!-- 5228281472 -->\n",
       "<g id=\"node3\" class=\"node\">\n",
       "<title>5228281472</title>\n",
       "<polygon fill=\"none\" stroke=\"black\" points=\"0,-68.5 0,-117.5 107,-117.5 107,-68.5 0,-68.5\"/>\n",
       "<text text-anchor=\"middle\" x=\"16.25\" y=\"-100.2\" font-family=\"Times,serif\" font-size=\"14.00\">w1</text>\n",
       "<polyline fill=\"none\" stroke=\"black\" points=\"32.5,-93 32.5,-117.5\"/>\n",
       "<text text-anchor=\"middle\" x=\"69.75\" y=\"-100.2\" font-family=\"Times,serif\" font-size=\"14.00\">data: &#45;3.00</text>\n",
       "<polyline fill=\"none\" stroke=\"black\" points=\"0,-93 107,-93\"/>\n",
       "<text text-anchor=\"middle\" x=\"53.5\" y=\"-75.7\" font-family=\"Times,serif\" font-size=\"14.00\">grad: 1.0000</text>\n",
       "</g>\n",
       "<!-- 5228278112* -->\n",
       "<g id=\"node13\" class=\"node\">\n",
       "<title>5228278112*</title>\n",
       "<ellipse fill=\"none\" stroke=\"black\" cx=\"170\" cy=\"-93\" rx=\"27\" ry=\"18\"/>\n",
       "<text text-anchor=\"middle\" x=\"170\" y=\"-87.95\" font-family=\"Times,serif\" font-size=\"14.00\">*</text>\n",
       "</g>\n",
       "<!-- 5228281472&#45;&gt;5228278112* -->\n",
       "<g id=\"edge11\" class=\"edge\">\n",
       "<title>5228281472&#45;&gt;5228278112*</title>\n",
       "<path fill=\"none\" stroke=\"black\" d=\"M106.72,-93C115.22,-93 123.87,-93 131.91,-93\"/>\n",
       "<polygon fill=\"black\" stroke=\"black\" points=\"131.79,-96.5 141.79,-93 131.79,-89.5 131.79,-96.5\"/>\n",
       "</g>\n",
       "<!-- 4938299088 -->\n",
       "<g id=\"node4\" class=\"node\">\n",
       "<title>4938299088</title>\n",
       "<polygon fill=\"none\" stroke=\"black\" points=\"235.25,-136.5 235.25,-185.5 351.25,-185.5 351.25,-136.5 235.25,-136.5\"/>\n",
       "<text text-anchor=\"middle\" x=\"258.25\" y=\"-168.2\" font-family=\"Times,serif\" font-size=\"14.00\">x2w2</text>\n",
       "<polyline fill=\"none\" stroke=\"black\" points=\"281.25,-161 281.25,-185.5\"/>\n",
       "<text text-anchor=\"middle\" x=\"316.25\" y=\"-168.2\" font-family=\"Times,serif\" font-size=\"14.00\">data: 0.00</text>\n",
       "<polyline fill=\"none\" stroke=\"black\" points=\"235.25,-161 351.25,-161\"/>\n",
       "<text text-anchor=\"middle\" x=\"293.25\" y=\"-143.7\" font-family=\"Times,serif\" font-size=\"14.00\">grad: 0.5000</text>\n",
       "</g>\n",
       "<!-- 4938299088&#45;&gt;4938298896+ -->\n",
       "<g id=\"edge14\" class=\"edge\">\n",
       "<title>4938299088&#45;&gt;4938298896+</title>\n",
       "<path fill=\"none\" stroke=\"black\" d=\"M350.97,-145.1C361.16,-142.24 371.5,-139.34 380.82,-136.72\"/>\n",
       "<polygon fill=\"black\" stroke=\"black\" points=\"381.55,-139.87 390.24,-133.8 379.66,-133.13 381.55,-139.87\"/>\n",
       "</g>\n",
       "<!-- 4938299088* -->\n",
       "<g id=\"node5\" class=\"node\">\n",
       "<title>4938299088*</title>\n",
       "<ellipse fill=\"none\" stroke=\"black\" cx=\"170\" cy=\"-161\" rx=\"27\" ry=\"18\"/>\n",
       "<text text-anchor=\"middle\" x=\"170\" y=\"-155.95\" font-family=\"Times,serif\" font-size=\"14.00\">*</text>\n",
       "</g>\n",
       "<!-- 4938299088*&#45;&gt;4938299088 -->\n",
       "<g id=\"edge2\" class=\"edge\">\n",
       "<title>4938299088*&#45;&gt;4938299088</title>\n",
       "<path fill=\"none\" stroke=\"black\" d=\"M197.31,-161C205.51,-161 214.95,-161 224.64,-161\"/>\n",
       "<polygon fill=\"black\" stroke=\"black\" points=\"224.63,-164.5 234.63,-161 224.63,-157.5 224.63,-164.5\"/>\n",
       "</g>\n",
       "<!-- 5228306688 -->\n",
       "<g id=\"node6\" class=\"node\">\n",
       "<title>5228306688</title>\n",
       "<polygon fill=\"none\" stroke=\"black\" points=\"974.75,-136.5 974.75,-185.5 1067.5,-185.5 1067.5,-136.5 974.75,-136.5\"/>\n",
       "<text text-anchor=\"middle\" x=\"986.12\" y=\"-168.2\" font-family=\"Times,serif\" font-size=\"14.00\">o</text>\n",
       "<polyline fill=\"none\" stroke=\"black\" points=\"997.5,-161 997.5,-185.5\"/>\n",
       "<text text-anchor=\"middle\" x=\"1032.5\" y=\"-168.2\" font-family=\"Times,serif\" font-size=\"14.00\">data: 0.71</text>\n",
       "<polyline fill=\"none\" stroke=\"black\" points=\"974.75,-161 1067.5,-161\"/>\n",
       "<text text-anchor=\"middle\" x=\"1021.12\" y=\"-143.7\" font-family=\"Times,serif\" font-size=\"14.00\">grad: 1.0000</text>\n",
       "</g>\n",
       "<!-- 5228306688tanh -->\n",
       "<g id=\"node7\" class=\"node\">\n",
       "<title>5228306688tanh</title>\n",
       "<ellipse fill=\"none\" stroke=\"black\" cx=\"911.75\" cy=\"-161\" rx=\"27\" ry=\"18\"/>\n",
       "<text text-anchor=\"middle\" x=\"911.75\" y=\"-155.95\" font-family=\"Times,serif\" font-size=\"14.00\">tanh</text>\n",
       "</g>\n",
       "<!-- 5228306688tanh&#45;&gt;5228306688 -->\n",
       "<g id=\"edge3\" class=\"edge\">\n",
       "<title>5228306688tanh&#45;&gt;5228306688</title>\n",
       "<path fill=\"none\" stroke=\"black\" d=\"M939.02,-161C946.61,-161 955.21,-161 963.9,-161\"/>\n",
       "<polygon fill=\"black\" stroke=\"black\" points=\"963.88,-164.5 973.88,-161 963.88,-157.5 963.88,-164.5\"/>\n",
       "</g>\n",
       "<!-- 5228281136 -->\n",
       "<g id=\"node8\" class=\"node\">\n",
       "<title>5228281136</title>\n",
       "<polygon fill=\"none\" stroke=\"black\" points=\"508.38,-170.5 508.38,-219.5 601.12,-219.5 601.12,-170.5 508.38,-170.5\"/>\n",
       "<text text-anchor=\"middle\" x=\"519.75\" y=\"-202.2\" font-family=\"Times,serif\" font-size=\"14.00\">b</text>\n",
       "<polyline fill=\"none\" stroke=\"black\" points=\"531.12,-195 531.12,-219.5\"/>\n",
       "<text text-anchor=\"middle\" x=\"566.12\" y=\"-202.2\" font-family=\"Times,serif\" font-size=\"14.00\">data: 6.88</text>\n",
       "<polyline fill=\"none\" stroke=\"black\" points=\"508.38,-195 601.12,-195\"/>\n",
       "<text text-anchor=\"middle\" x=\"554.75\" y=\"-177.7\" font-family=\"Times,serif\" font-size=\"14.00\">grad: 0.5000</text>\n",
       "</g>\n",
       "<!-- 5228281136&#45;&gt;5226380112+ -->\n",
       "<g id=\"edge13\" class=\"edge\">\n",
       "<title>5228281136&#45;&gt;5226380112+</title>\n",
       "<path fill=\"none\" stroke=\"black\" d=\"M601.12,-183.68C619.28,-179.15 639.88,-174.01 656.87,-169.77\"/>\n",
       "<polygon fill=\"black\" stroke=\"black\" points=\"657.6,-172.94 666.45,-167.13 655.9,-166.15 657.6,-172.94\"/>\n",
       "</g>\n",
       "<!-- 5228281664 -->\n",
       "<g id=\"node9\" class=\"node\">\n",
       "<title>5228281664</title>\n",
       "<polygon fill=\"none\" stroke=\"black\" points=\"2.25,-204.5 2.25,-253.5 104.75,-253.5 104.75,-204.5 2.25,-204.5\"/>\n",
       "<text text-anchor=\"middle\" x=\"18.5\" y=\"-236.2\" font-family=\"Times,serif\" font-size=\"14.00\">w2</text>\n",
       "<polyline fill=\"none\" stroke=\"black\" points=\"34.75,-229 34.75,-253.5\"/>\n",
       "<text text-anchor=\"middle\" x=\"69.75\" y=\"-236.2\" font-family=\"Times,serif\" font-size=\"14.00\">data: 1.00</text>\n",
       "<polyline fill=\"none\" stroke=\"black\" points=\"2.25,-229 104.75,-229\"/>\n",
       "<text text-anchor=\"middle\" x=\"53.5\" y=\"-211.7\" font-family=\"Times,serif\" font-size=\"14.00\">grad: 0.0000</text>\n",
       "</g>\n",
       "<!-- 5228281664&#45;&gt;4938299088* -->\n",
       "<g id=\"edge6\" class=\"edge\">\n",
       "<title>5228281664&#45;&gt;4938299088*</title>\n",
       "<path fill=\"none\" stroke=\"black\" d=\"M95.51,-204.64C110.18,-195.93 126.39,-186.3 139.85,-178.31\"/>\n",
       "<polygon fill=\"black\" stroke=\"black\" points=\"141.29,-180.93 148.1,-172.82 137.72,-174.91 141.29,-180.93\"/>\n",
       "</g>\n",
       "<!-- 5226380112 -->\n",
       "<g id=\"node10\" class=\"node\">\n",
       "<title>5226380112</title>\n",
       "<polygon fill=\"none\" stroke=\"black\" points=\"756,-136.5 756,-185.5 848.75,-185.5 848.75,-136.5 756,-136.5\"/>\n",
       "<text text-anchor=\"middle\" x=\"767.38\" y=\"-168.2\" font-family=\"Times,serif\" font-size=\"14.00\">n</text>\n",
       "<polyline fill=\"none\" stroke=\"black\" points=\"778.75,-161 778.75,-185.5\"/>\n",
       "<text text-anchor=\"middle\" x=\"813.75\" y=\"-168.2\" font-family=\"Times,serif\" font-size=\"14.00\">data: 0.88</text>\n",
       "<polyline fill=\"none\" stroke=\"black\" points=\"756,-161 848.75,-161\"/>\n",
       "<text text-anchor=\"middle\" x=\"802.38\" y=\"-143.7\" font-family=\"Times,serif\" font-size=\"14.00\">grad: 0.5000</text>\n",
       "</g>\n",
       "<!-- 5226380112&#45;&gt;5228306688tanh -->\n",
       "<g id=\"edge9\" class=\"edge\">\n",
       "<title>5226380112&#45;&gt;5228306688tanh</title>\n",
       "<path fill=\"none\" stroke=\"black\" d=\"M848.6,-161C856.86,-161 865.39,-161 873.39,-161\"/>\n",
       "<polygon fill=\"black\" stroke=\"black\" points=\"873.26,-164.5 883.26,-161 873.26,-157.5 873.26,-164.5\"/>\n",
       "</g>\n",
       "<!-- 5226380112+&#45;&gt;5226380112 -->\n",
       "<g id=\"edge4\" class=\"edge\">\n",
       "<title>5226380112+&#45;&gt;5226380112</title>\n",
       "<path fill=\"none\" stroke=\"black\" d=\"M720.27,-161C727.86,-161 736.46,-161 745.15,-161\"/>\n",
       "<polygon fill=\"black\" stroke=\"black\" points=\"745.13,-164.5 755.13,-161 745.13,-157.5 745.13,-164.5\"/>\n",
       "</g>\n",
       "<!-- 5228278112 -->\n",
       "<g id=\"node12\" class=\"node\">\n",
       "<title>5228278112</title>\n",
       "<polygon fill=\"none\" stroke=\"black\" points=\"233,-68.5 233,-117.5 353.5,-117.5 353.5,-68.5 233,-68.5\"/>\n",
       "<text text-anchor=\"middle\" x=\"256\" y=\"-100.2\" font-family=\"Times,serif\" font-size=\"14.00\">x1w1</text>\n",
       "<polyline fill=\"none\" stroke=\"black\" points=\"279,-93 279,-117.5\"/>\n",
       "<text text-anchor=\"middle\" x=\"316.25\" y=\"-100.2\" font-family=\"Times,serif\" font-size=\"14.00\">data: &#45;6.00</text>\n",
       "<polyline fill=\"none\" stroke=\"black\" points=\"233,-93 353.5,-93\"/>\n",
       "<text text-anchor=\"middle\" x=\"293.25\" y=\"-75.7\" font-family=\"Times,serif\" font-size=\"14.00\">grad: 0.5000</text>\n",
       "</g>\n",
       "<!-- 5228278112&#45;&gt;4938298896+ -->\n",
       "<g id=\"edge7\" class=\"edge\">\n",
       "<title>5228278112&#45;&gt;4938298896+</title>\n",
       "<path fill=\"none\" stroke=\"black\" d=\"M353.45,-109.6C362.84,-112.23 372.27,-114.88 380.84,-117.28\"/>\n",
       "<polygon fill=\"black\" stroke=\"black\" points=\"379.6,-120.85 390.18,-120.18 381.49,-114.11 379.6,-120.85\"/>\n",
       "</g>\n",
       "<!-- 5228278112*&#45;&gt;5228278112 -->\n",
       "<g id=\"edge5\" class=\"edge\">\n",
       "<title>5228278112*&#45;&gt;5228278112</title>\n",
       "<path fill=\"none\" stroke=\"black\" d=\"M197.31,-93C204.84,-93 213.41,-93 222.27,-93\"/>\n",
       "<polygon fill=\"black\" stroke=\"black\" points=\"222.15,-96.5 232.15,-93 222.15,-89.5 222.15,-96.5\"/>\n",
       "</g>\n",
       "<!-- 5228281808 -->\n",
       "<g id=\"node14\" class=\"node\">\n",
       "<title>5228281808</title>\n",
       "<polygon fill=\"none\" stroke=\"black\" points=\"3.75,-0.5 3.75,-49.5 103.25,-49.5 103.25,-0.5 3.75,-0.5\"/>\n",
       "<text text-anchor=\"middle\" x=\"18.5\" y=\"-32.2\" font-family=\"Times,serif\" font-size=\"14.00\">x1</text>\n",
       "<polyline fill=\"none\" stroke=\"black\" points=\"33.25,-25 33.25,-49.5\"/>\n",
       "<text text-anchor=\"middle\" x=\"68.25\" y=\"-32.2\" font-family=\"Times,serif\" font-size=\"14.00\">data: 2.00</text>\n",
       "<polyline fill=\"none\" stroke=\"black\" points=\"3.75,-25 103.25,-25\"/>\n",
       "<text text-anchor=\"middle\" x=\"53.5\" y=\"-7.7\" font-family=\"Times,serif\" font-size=\"14.00\">grad: &#45;1.5000</text>\n",
       "</g>\n",
       "<!-- 5228281808&#45;&gt;5228278112* -->\n",
       "<g id=\"edge10\" class=\"edge\">\n",
       "<title>5228281808&#45;&gt;5228278112*</title>\n",
       "<path fill=\"none\" stroke=\"black\" d=\"M95.51,-49.36C110.18,-58.07 126.39,-67.7 139.85,-75.69\"/>\n",
       "<polygon fill=\"black\" stroke=\"black\" points=\"137.72,-79.09 148.1,-81.18 141.29,-73.07 137.72,-79.09\"/>\n",
       "</g>\n",
       "<!-- 5228281328 -->\n",
       "<g id=\"node15\" class=\"node\">\n",
       "<title>5228281328</title>\n",
       "<polygon fill=\"none\" stroke=\"black\" points=\"3.75,-136.5 3.75,-185.5 103.25,-185.5 103.25,-136.5 3.75,-136.5\"/>\n",
       "<text text-anchor=\"middle\" x=\"18.5\" y=\"-168.2\" font-family=\"Times,serif\" font-size=\"14.00\">x2</text>\n",
       "<polyline fill=\"none\" stroke=\"black\" points=\"33.25,-161 33.25,-185.5\"/>\n",
       "<text text-anchor=\"middle\" x=\"68.25\" y=\"-168.2\" font-family=\"Times,serif\" font-size=\"14.00\">data: 0.00</text>\n",
       "<polyline fill=\"none\" stroke=\"black\" points=\"3.75,-161 103.25,-161\"/>\n",
       "<text text-anchor=\"middle\" x=\"53.5\" y=\"-143.7\" font-family=\"Times,serif\" font-size=\"14.00\">grad: 0.5000</text>\n",
       "</g>\n",
       "<!-- 5228281328&#45;&gt;4938299088* -->\n",
       "<g id=\"edge8\" class=\"edge\">\n",
       "<title>5228281328&#45;&gt;4938299088*</title>\n",
       "<path fill=\"none\" stroke=\"black\" d=\"M103.06,-161C112.68,-161 122.63,-161 131.8,-161\"/>\n",
       "<polygon fill=\"black\" stroke=\"black\" points=\"131.52,-164.5 141.52,-161 131.52,-157.5 131.52,-164.5\"/>\n",
       "</g>\n",
       "</g>\n",
       "</svg>\n"
      ],
      "text/plain": [
       "<graphviz.graphs.Digraph at 0x137a13ca0>"
      ]
     },
     "execution_count": 240,
     "metadata": {},
     "output_type": "execute_result"
    }
   ],
   "source": [
    "draw_dot(o)"
   ]
  },
  {
   "cell_type": "code",
   "execution_count": 254,
   "id": "655fac00",
   "metadata": {
    "ExecuteTime": {
     "end_time": "2023-05-24T17:21:47.124659Z",
     "start_time": "2023-05-24T17:21:47.115762Z"
    }
   },
   "outputs": [],
   "source": [
    "# Example of single neuron\n",
    "# Inputs: x1, x2\n",
    "x1 = Value(2.0, label=\"x1\")\n",
    "x2 = Value(0.0, label=\"x2\")\n",
    "# Weights: w1, w2\n",
    "w1 = Value(-3.0, label=\"w1\")\n",
    "w2 = Value(1.0, label=\"w2\")\n",
    "# Bias of the neuron: b\n",
    "b = Value(6.8813735870195432, label=\"b\")\n",
    "\n",
    "# Replicate the process of a neuron: sum(inputs*weights) + b\n",
    "x1w1 = x1 * w1; x1w1.label = \"x1w1\"\n",
    "x2w2 = x2 * w2; x2w2.label = \"x2w2\"\n",
    "x1w1x2w2 = x1w1 + x2w2; x1w1x2w2.label = \"x1w1x2w2\"\n",
    "n = x1w1x2w2 + b; n.label = \"n\"\n",
    "\n",
    "# Now apply activation function: tanh\n",
    "#o = n.tanh(); o.label = \"o\"\n",
    "\n",
    "# Manually compute tanh using the more basic ops\n",
    "# tanh(x) = (e^(2x) - 1) / (e^(2x) + 1)\n",
    "e = (2 * n).exp(); e.label= \"e\"\n",
    "o = (e - 1) / (e + 1); o.label = \"o\"\n",
    "\n",
    "o.backward()"
   ]
  },
  {
   "cell_type": "code",
   "execution_count": 255,
   "id": "fb95599c",
   "metadata": {
    "ExecuteTime": {
     "end_time": "2023-05-24T17:21:48.228718Z",
     "start_time": "2023-05-24T17:21:48.136285Z"
    }
   },
   "outputs": [
    {
     "data": {
      "image/svg+xml": [
       "<?xml version=\"1.0\" encoding=\"UTF-8\" standalone=\"no\"?>\n",
       "<!DOCTYPE svg PUBLIC \"-//W3C//DTD SVG 1.1//EN\"\n",
       " \"http://www.w3.org/Graphics/SVG/1.1/DTD/svg11.dtd\">\n",
       "<!-- Generated by graphviz version 8.0.5 (20230430.1635)\n",
       " -->\n",
       "<!-- Pages: 1 -->\n",
       "<svg width=\"1990pt\" height=\"296pt\"\n",
       " viewBox=\"0.00 0.00 1990.00 296.00\" xmlns=\"http://www.w3.org/2000/svg\" xmlns:xlink=\"http://www.w3.org/1999/xlink\">\n",
       "<g id=\"graph0\" class=\"graph\" transform=\"scale(1 1) rotate(0) translate(4 292)\">\n",
       "<polygon fill=\"white\" stroke=\"none\" points=\"-4,4 -4,-292 1986,-292 1986,4 -4,4\"/>\n",
       "<!-- 5226439680 -->\n",
       "<g id=\"node1\" class=\"node\">\n",
       "<title>5226439680</title>\n",
       "<polygon fill=\"none\" stroke=\"black\" points=\"2.25,-238.5 2.25,-287.5 104.75,-287.5 104.75,-238.5 2.25,-238.5\"/>\n",
       "<text text-anchor=\"middle\" x=\"18.5\" y=\"-270.2\" font-family=\"Times,serif\" font-size=\"14.00\">w2</text>\n",
       "<polyline fill=\"none\" stroke=\"black\" points=\"34.75,-263 34.75,-287.5\"/>\n",
       "<text text-anchor=\"middle\" x=\"69.75\" y=\"-270.2\" font-family=\"Times,serif\" font-size=\"14.00\">data: 1.00</text>\n",
       "<polyline fill=\"none\" stroke=\"black\" points=\"2.25,-263 104.75,-263\"/>\n",
       "<text text-anchor=\"middle\" x=\"53.5\" y=\"-245.7\" font-family=\"Times,serif\" font-size=\"14.00\">grad: 0.0000</text>\n",
       "</g>\n",
       "<!-- 5226440928* -->\n",
       "<g id=\"node14\" class=\"node\">\n",
       "<title>5226440928*</title>\n",
       "<ellipse fill=\"none\" stroke=\"black\" cx=\"170\" cy=\"-195\" rx=\"27\" ry=\"18\"/>\n",
       "<text text-anchor=\"middle\" x=\"170\" y=\"-189.95\" font-family=\"Times,serif\" font-size=\"14.00\">*</text>\n",
       "</g>\n",
       "<!-- 5226439680&#45;&gt;5226440928* -->\n",
       "<g id=\"edge21\" class=\"edge\">\n",
       "<title>5226439680&#45;&gt;5226440928*</title>\n",
       "<path fill=\"none\" stroke=\"black\" d=\"M95.51,-238.64C110.18,-229.93 126.39,-220.3 139.85,-212.31\"/>\n",
       "<polygon fill=\"black\" stroke=\"black\" points=\"141.29,-214.93 148.1,-206.82 137.72,-208.91 141.29,-214.93\"/>\n",
       "</g>\n",
       "<!-- 5227665440 -->\n",
       "<g id=\"node2\" class=\"node\">\n",
       "<title>5227665440</title>\n",
       "<polygon fill=\"none\" stroke=\"black\" points=\"1195,-68.5 1195,-117.5 1287,-117.5 1287,-68.5 1195,-68.5\"/>\n",
       "<text text-anchor=\"middle\" x=\"1206\" y=\"-100.2\" font-family=\"Times,serif\" font-size=\"14.00\">e</text>\n",
       "<polyline fill=\"none\" stroke=\"black\" points=\"1217,-93 1217,-117.5\"/>\n",
       "<text text-anchor=\"middle\" x=\"1252\" y=\"-100.2\" font-family=\"Times,serif\" font-size=\"14.00\">data: 5.83</text>\n",
       "<polyline fill=\"none\" stroke=\"black\" points=\"1195,-93 1287,-93\"/>\n",
       "<text text-anchor=\"middle\" x=\"1241\" y=\"-75.7\" font-family=\"Times,serif\" font-size=\"14.00\">grad: 0.0429</text>\n",
       "</g>\n",
       "<!-- 5227666112+ -->\n",
       "<g id=\"node10\" class=\"node\">\n",
       "<title>5227666112+</title>\n",
       "<ellipse fill=\"none\" stroke=\"black\" cx=\"1352.25\" cy=\"-123\" rx=\"27\" ry=\"18\"/>\n",
       "<text text-anchor=\"middle\" x=\"1352.25\" y=\"-117.95\" font-family=\"Times,serif\" font-size=\"14.00\">+</text>\n",
       "</g>\n",
       "<!-- 5227665440&#45;&gt;5227666112+ -->\n",
       "<g id=\"edge15\" class=\"edge\">\n",
       "<title>5227665440&#45;&gt;5227666112+</title>\n",
       "<path fill=\"none\" stroke=\"black\" d=\"M1286.75,-105.29C1296.58,-107.99 1306.84,-110.81 1316.22,-113.38\"/>\n",
       "<polygon fill=\"black\" stroke=\"black\" points=\"1315.18,-117 1325.74,-116.27 1317.03,-110.25 1315.18,-117\"/>\n",
       "</g>\n",
       "<!-- 5227666352+ -->\n",
       "<g id=\"node24\" class=\"node\">\n",
       "<title>5227666352+</title>\n",
       "<ellipse fill=\"none\" stroke=\"black\" cx=\"1352.25\" cy=\"-62\" rx=\"27\" ry=\"18\"/>\n",
       "<text text-anchor=\"middle\" x=\"1352.25\" y=\"-56.95\" font-family=\"Times,serif\" font-size=\"14.00\">+</text>\n",
       "</g>\n",
       "<!-- 5227665440&#45;&gt;5227666352+ -->\n",
       "<g id=\"edge25\" class=\"edge\">\n",
       "<title>5227665440&#45;&gt;5227666352+</title>\n",
       "<path fill=\"none\" stroke=\"black\" d=\"M1286.75,-80.3C1296.77,-77.46 1307.25,-74.49 1316.77,-71.78\"/>\n",
       "<polygon fill=\"black\" stroke=\"black\" points=\"1317.38,-74.96 1326.05,-68.87 1315.47,-68.23 1317.38,-74.96\"/>\n",
       "</g>\n",
       "<!-- 5227665440exp -->\n",
       "<g id=\"node3\" class=\"node\">\n",
       "<title>5227665440exp</title>\n",
       "<ellipse fill=\"none\" stroke=\"black\" cx=\"1129.75\" cy=\"-93\" rx=\"27\" ry=\"18\"/>\n",
       "<text text-anchor=\"middle\" x=\"1129.75\" y=\"-87.95\" font-family=\"Times,serif\" font-size=\"14.00\">exp</text>\n",
       "</g>\n",
       "<!-- 5227665440exp&#45;&gt;5227665440 -->\n",
       "<g id=\"edge1\" class=\"edge\">\n",
       "<title>5227665440exp&#45;&gt;5227665440</title>\n",
       "<path fill=\"none\" stroke=\"black\" d=\"M1157.2,-93C1165.37,-93 1174.69,-93 1184.07,-93\"/>\n",
       "<polygon fill=\"black\" stroke=\"black\" points=\"1184.04,-96.5 1194.04,-93 1184.04,-89.5 1184.04,-96.5\"/>\n",
       "</g>\n",
       "<!-- 5227663904 -->\n",
       "<g id=\"node4\" class=\"node\">\n",
       "<title>5227663904</title>\n",
       "<polygon fill=\"none\" stroke=\"black\" points=\"756,-102.5 756,-151.5 848.75,-151.5 848.75,-102.5 756,-102.5\"/>\n",
       "<text text-anchor=\"middle\" x=\"767.38\" y=\"-134.2\" font-family=\"Times,serif\" font-size=\"14.00\">n</text>\n",
       "<polyline fill=\"none\" stroke=\"black\" points=\"778.75,-127 778.75,-151.5\"/>\n",
       "<text text-anchor=\"middle\" x=\"813.75\" y=\"-134.2\" font-family=\"Times,serif\" font-size=\"14.00\">data: 0.88</text>\n",
       "<polyline fill=\"none\" stroke=\"black\" points=\"756,-127 848.75,-127\"/>\n",
       "<text text-anchor=\"middle\" x=\"802.38\" y=\"-109.7\" font-family=\"Times,serif\" font-size=\"14.00\">grad: 0.5000</text>\n",
       "</g>\n",
       "<!-- 5227666640* -->\n",
       "<g id=\"node12\" class=\"node\">\n",
       "<title>5227666640*</title>\n",
       "<ellipse fill=\"none\" stroke=\"black\" cx=\"911.75\" cy=\"-93\" rx=\"27\" ry=\"18\"/>\n",
       "<text text-anchor=\"middle\" x=\"911.75\" y=\"-87.95\" font-family=\"Times,serif\" font-size=\"14.00\">*</text>\n",
       "</g>\n",
       "<!-- 5227663904&#45;&gt;5227666640* -->\n",
       "<g id=\"edge11\" class=\"edge\">\n",
       "<title>5227663904&#45;&gt;5227666640*</title>\n",
       "<path fill=\"none\" stroke=\"black\" d=\"M848.6,-112.68C857.97,-109.71 867.7,-106.63 876.59,-103.82\"/>\n",
       "<polygon fill=\"black\" stroke=\"black\" points=\"877.48,-106.89 885.95,-100.53 875.36,-100.22 877.48,-106.89\"/>\n",
       "</g>\n",
       "<!-- 5227663904+ -->\n",
       "<g id=\"node5\" class=\"node\">\n",
       "<title>5227663904+</title>\n",
       "<ellipse fill=\"none\" stroke=\"black\" cx=\"693\" cy=\"-127\" rx=\"27\" ry=\"18\"/>\n",
       "<text text-anchor=\"middle\" x=\"693\" y=\"-121.95\" font-family=\"Times,serif\" font-size=\"14.00\">+</text>\n",
       "</g>\n",
       "<!-- 5227663904+&#45;&gt;5227663904 -->\n",
       "<g id=\"edge2\" class=\"edge\">\n",
       "<title>5227663904+&#45;&gt;5227663904</title>\n",
       "<path fill=\"none\" stroke=\"black\" d=\"M720.27,-127C727.86,-127 736.46,-127 745.15,-127\"/>\n",
       "<polygon fill=\"black\" stroke=\"black\" points=\"745.13,-130.5 755.13,-127 745.13,-123.5 745.13,-130.5\"/>\n",
       "</g>\n",
       "<!-- 5226441312 -->\n",
       "<g id=\"node6\" class=\"node\">\n",
       "<title>5226441312</title>\n",
       "<polygon fill=\"none\" stroke=\"black\" points=\"0,-102.5 0,-151.5 107,-151.5 107,-102.5 0,-102.5\"/>\n",
       "<text text-anchor=\"middle\" x=\"16.25\" y=\"-134.2\" font-family=\"Times,serif\" font-size=\"14.00\">w1</text>\n",
       "<polyline fill=\"none\" stroke=\"black\" points=\"32.5,-127 32.5,-151.5\"/>\n",
       "<text text-anchor=\"middle\" x=\"69.75\" y=\"-134.2\" font-family=\"Times,serif\" font-size=\"14.00\">data: &#45;3.00</text>\n",
       "<polyline fill=\"none\" stroke=\"black\" points=\"0,-127 107,-127\"/>\n",
       "<text text-anchor=\"middle\" x=\"53.5\" y=\"-109.7\" font-family=\"Times,serif\" font-size=\"14.00\">grad: 1.0000</text>\n",
       "</g>\n",
       "<!-- 5226442032* -->\n",
       "<g id=\"node19\" class=\"node\">\n",
       "<title>5226442032*</title>\n",
       "<ellipse fill=\"none\" stroke=\"black\" cx=\"170\" cy=\"-127\" rx=\"27\" ry=\"18\"/>\n",
       "<text text-anchor=\"middle\" x=\"170\" y=\"-121.95\" font-family=\"Times,serif\" font-size=\"14.00\">*</text>\n",
       "</g>\n",
       "<!-- 5226441312&#45;&gt;5226442032* -->\n",
       "<g id=\"edge12\" class=\"edge\">\n",
       "<title>5226441312&#45;&gt;5226442032*</title>\n",
       "<path fill=\"none\" stroke=\"black\" d=\"M106.72,-127C115.22,-127 123.87,-127 131.91,-127\"/>\n",
       "<polygon fill=\"black\" stroke=\"black\" points=\"131.79,-130.5 141.79,-127 131.79,-123.5 131.79,-130.5\"/>\n",
       "</g>\n",
       "<!-- 5226441840 -->\n",
       "<g id=\"node7\" class=\"node\">\n",
       "<title>5226441840</title>\n",
       "<polygon fill=\"none\" stroke=\"black\" points=\"3.75,-170.5 3.75,-219.5 103.25,-219.5 103.25,-170.5 3.75,-170.5\"/>\n",
       "<text text-anchor=\"middle\" x=\"18.5\" y=\"-202.2\" font-family=\"Times,serif\" font-size=\"14.00\">x2</text>\n",
       "<polyline fill=\"none\" stroke=\"black\" points=\"33.25,-195 33.25,-219.5\"/>\n",
       "<text text-anchor=\"middle\" x=\"68.25\" y=\"-202.2\" font-family=\"Times,serif\" font-size=\"14.00\">data: 0.00</text>\n",
       "<polyline fill=\"none\" stroke=\"black\" points=\"3.75,-195 103.25,-195\"/>\n",
       "<text text-anchor=\"middle\" x=\"53.5\" y=\"-177.7\" font-family=\"Times,serif\" font-size=\"14.00\">grad: 0.5000</text>\n",
       "</g>\n",
       "<!-- 5226441840&#45;&gt;5226440928* -->\n",
       "<g id=\"edge24\" class=\"edge\">\n",
       "<title>5226441840&#45;&gt;5226440928*</title>\n",
       "<path fill=\"none\" stroke=\"black\" d=\"M103.06,-195C112.68,-195 122.63,-195 131.8,-195\"/>\n",
       "<polygon fill=\"black\" stroke=\"black\" points=\"131.52,-198.5 141.52,-195 131.52,-191.5 131.52,-198.5\"/>\n",
       "</g>\n",
       "<!-- 5227666064 -->\n",
       "<g id=\"node8\" class=\"node\">\n",
       "<title>5227666064</title>\n",
       "<polygon fill=\"none\" stroke=\"black\" points=\"1195,-0.5 1195,-49.5 1287,-49.5 1287,-0.5 1195,-0.5\"/>\n",
       "<text text-anchor=\"middle\" x=\"1206\" y=\"-32.2\" font-family=\"Times,serif\" font-size=\"14.00\">?</text>\n",
       "<polyline fill=\"none\" stroke=\"black\" points=\"1217,-25 1217,-49.5\"/>\n",
       "<text text-anchor=\"middle\" x=\"1252\" y=\"-32.2\" font-family=\"Times,serif\" font-size=\"14.00\">data: 1.00</text>\n",
       "<polyline fill=\"none\" stroke=\"black\" points=\"1195,-25 1287,-25\"/>\n",
       "<text text-anchor=\"middle\" x=\"1241\" y=\"-7.7\" font-family=\"Times,serif\" font-size=\"14.00\">grad: &#45;0.1036</text>\n",
       "</g>\n",
       "<!-- 5227666064&#45;&gt;5227666352+ -->\n",
       "<g id=\"edge13\" class=\"edge\">\n",
       "<title>5227666064&#45;&gt;5227666352+</title>\n",
       "<path fill=\"none\" stroke=\"black\" d=\"M1286.75,-40.16C1296.94,-43.61 1307.61,-47.22 1317.26,-50.49\"/>\n",
       "<polygon fill=\"black\" stroke=\"black\" points=\"1316.06,-54.12 1326.65,-54.01 1318.31,-47.49 1316.06,-54.12\"/>\n",
       "</g>\n",
       "<!-- 5227666112 -->\n",
       "<g id=\"node9\" class=\"node\">\n",
       "<title>5227666112</title>\n",
       "<polygon fill=\"none\" stroke=\"black\" points=\"1543.25,-98.5 1543.25,-147.5 1635.25,-147.5 1635.25,-98.5 1543.25,-98.5\"/>\n",
       "<text text-anchor=\"middle\" x=\"1554.25\" y=\"-130.2\" font-family=\"Times,serif\" font-size=\"14.00\">?</text>\n",
       "<polyline fill=\"none\" stroke=\"black\" points=\"1565.25,-123 1565.25,-147.5\"/>\n",
       "<text text-anchor=\"middle\" x=\"1600.25\" y=\"-130.2\" font-family=\"Times,serif\" font-size=\"14.00\">data: 4.83</text>\n",
       "<polyline fill=\"none\" stroke=\"black\" points=\"1543.25,-123 1635.25,-123\"/>\n",
       "<text text-anchor=\"middle\" x=\"1589.25\" y=\"-105.7\" font-family=\"Times,serif\" font-size=\"14.00\">grad: 0.1464</text>\n",
       "</g>\n",
       "<!-- 5227664816* -->\n",
       "<g id=\"node26\" class=\"node\">\n",
       "<title>5227664816*</title>\n",
       "<ellipse fill=\"none\" stroke=\"black\" cx=\"1826.25\" cy=\"-92\" rx=\"27\" ry=\"18\"/>\n",
       "<text text-anchor=\"middle\" x=\"1826.25\" y=\"-86.95\" font-family=\"Times,serif\" font-size=\"14.00\">*</text>\n",
       "</g>\n",
       "<!-- 5227666112&#45;&gt;5227664816* -->\n",
       "<g id=\"edge23\" class=\"edge\">\n",
       "<title>5227666112&#45;&gt;5227664816*</title>\n",
       "<path fill=\"none\" stroke=\"black\" d=\"M1635,-117.1C1679.53,-111.22 1747.03,-102.32 1788.51,-96.85\"/>\n",
       "<polygon fill=\"black\" stroke=\"black\" points=\"1788.77,-100.21 1798.23,-95.43 1787.86,-93.27 1788.77,-100.21\"/>\n",
       "</g>\n",
       "<!-- 5227666112+&#45;&gt;5227666112 -->\n",
       "<g id=\"edge3\" class=\"edge\">\n",
       "<title>5227666112+&#45;&gt;5227666112</title>\n",
       "<path fill=\"none\" stroke=\"black\" d=\"M1379.3,-123C1416.1,-123 1484.25,-123 1532.7,-123\"/>\n",
       "<polygon fill=\"black\" stroke=\"black\" points=\"1532.64,-126.5 1542.64,-123 1532.64,-119.5 1532.64,-126.5\"/>\n",
       "</g>\n",
       "<!-- 5227666640 -->\n",
       "<g id=\"node11\" class=\"node\">\n",
       "<title>5227666640</title>\n",
       "<polygon fill=\"none\" stroke=\"black\" points=\"974.75,-68.5 974.75,-117.5 1066.75,-117.5 1066.75,-68.5 974.75,-68.5\"/>\n",
       "<text text-anchor=\"middle\" x=\"985.75\" y=\"-100.2\" font-family=\"Times,serif\" font-size=\"14.00\">?</text>\n",
       "<polyline fill=\"none\" stroke=\"black\" points=\"996.75,-93 996.75,-117.5\"/>\n",
       "<text text-anchor=\"middle\" x=\"1031.75\" y=\"-100.2\" font-family=\"Times,serif\" font-size=\"14.00\">data: 1.76</text>\n",
       "<polyline fill=\"none\" stroke=\"black\" points=\"974.75,-93 1066.75,-93\"/>\n",
       "<text text-anchor=\"middle\" x=\"1020.75\" y=\"-75.7\" font-family=\"Times,serif\" font-size=\"14.00\">grad: 0.2500</text>\n",
       "</g>\n",
       "<!-- 5227666640&#45;&gt;5227665440exp -->\n",
       "<g id=\"edge16\" class=\"edge\">\n",
       "<title>5227666640&#45;&gt;5227665440exp</title>\n",
       "<path fill=\"none\" stroke=\"black\" d=\"M1066.51,-93C1074.84,-93 1083.46,-93 1091.53,-93\"/>\n",
       "<polygon fill=\"black\" stroke=\"black\" points=\"1091.49,-96.5 1101.49,-93 1091.49,-89.5 1091.49,-96.5\"/>\n",
       "</g>\n",
       "<!-- 5227666640*&#45;&gt;5227666640 -->\n",
       "<g id=\"edge4\" class=\"edge\">\n",
       "<title>5227666640*&#45;&gt;5227666640</title>\n",
       "<path fill=\"none\" stroke=\"black\" d=\"M939.2,-93C946.77,-93 955.32,-93 963.96,-93\"/>\n",
       "<polygon fill=\"black\" stroke=\"black\" points=\"963.86,-96.5 973.86,-93 963.86,-89.5 963.86,-96.5\"/>\n",
       "</g>\n",
       "<!-- 5226440928 -->\n",
       "<g id=\"node13\" class=\"node\">\n",
       "<title>5226440928</title>\n",
       "<polygon fill=\"none\" stroke=\"black\" points=\"235.25,-170.5 235.25,-219.5 351.25,-219.5 351.25,-170.5 235.25,-170.5\"/>\n",
       "<text text-anchor=\"middle\" x=\"258.25\" y=\"-202.2\" font-family=\"Times,serif\" font-size=\"14.00\">x2w2</text>\n",
       "<polyline fill=\"none\" stroke=\"black\" points=\"281.25,-195 281.25,-219.5\"/>\n",
       "<text text-anchor=\"middle\" x=\"316.25\" y=\"-202.2\" font-family=\"Times,serif\" font-size=\"14.00\">data: 0.00</text>\n",
       "<polyline fill=\"none\" stroke=\"black\" points=\"235.25,-195 351.25,-195\"/>\n",
       "<text text-anchor=\"middle\" x=\"293.25\" y=\"-177.7\" font-family=\"Times,serif\" font-size=\"14.00\">grad: 0.5000</text>\n",
       "</g>\n",
       "<!-- 5226441552+ -->\n",
       "<g id=\"node21\" class=\"node\">\n",
       "<title>5226441552+</title>\n",
       "<ellipse fill=\"none\" stroke=\"black\" cx=\"416.5\" cy=\"-161\" rx=\"27\" ry=\"18\"/>\n",
       "<text text-anchor=\"middle\" x=\"416.5\" y=\"-155.95\" font-family=\"Times,serif\" font-size=\"14.00\">+</text>\n",
       "</g>\n",
       "<!-- 5226440928&#45;&gt;5226441552+ -->\n",
       "<g id=\"edge19\" class=\"edge\">\n",
       "<title>5226440928&#45;&gt;5226441552+</title>\n",
       "<path fill=\"none\" stroke=\"black\" d=\"M350.97,-179.1C361.16,-176.24 371.5,-173.34 380.82,-170.72\"/>\n",
       "<polygon fill=\"black\" stroke=\"black\" points=\"381.55,-173.87 390.24,-167.8 379.66,-167.13 381.55,-173.87\"/>\n",
       "</g>\n",
       "<!-- 5226440928*&#45;&gt;5226440928 -->\n",
       "<g id=\"edge5\" class=\"edge\">\n",
       "<title>5226440928*&#45;&gt;5226440928</title>\n",
       "<path fill=\"none\" stroke=\"black\" d=\"M197.31,-195C205.51,-195 214.95,-195 224.64,-195\"/>\n",
       "<polygon fill=\"black\" stroke=\"black\" points=\"224.63,-198.5 234.63,-195 224.63,-191.5 224.63,-198.5\"/>\n",
       "</g>\n",
       "<!-- 5226439920 -->\n",
       "<g id=\"node15\" class=\"node\">\n",
       "<title>5226439920</title>\n",
       "<polygon fill=\"none\" stroke=\"black\" points=\"508.38,-68.5 508.38,-117.5 601.12,-117.5 601.12,-68.5 508.38,-68.5\"/>\n",
       "<text text-anchor=\"middle\" x=\"519.75\" y=\"-100.2\" font-family=\"Times,serif\" font-size=\"14.00\">b</text>\n",
       "<polyline fill=\"none\" stroke=\"black\" points=\"531.12,-93 531.12,-117.5\"/>\n",
       "<text text-anchor=\"middle\" x=\"566.12\" y=\"-100.2\" font-family=\"Times,serif\" font-size=\"14.00\">data: 6.88</text>\n",
       "<polyline fill=\"none\" stroke=\"black\" points=\"508.38,-93 601.12,-93\"/>\n",
       "<text text-anchor=\"middle\" x=\"554.75\" y=\"-75.7\" font-family=\"Times,serif\" font-size=\"14.00\">grad: 0.5000</text>\n",
       "</g>\n",
       "<!-- 5226439920&#45;&gt;5227663904+ -->\n",
       "<g id=\"edge22\" class=\"edge\">\n",
       "<title>5226439920&#45;&gt;5227663904+</title>\n",
       "<path fill=\"none\" stroke=\"black\" d=\"M601.12,-104.32C619.28,-108.85 639.88,-113.99 656.87,-118.23\"/>\n",
       "<polygon fill=\"black\" stroke=\"black\" points=\"655.9,-121.85 666.45,-120.87 657.6,-115.06 655.9,-121.85\"/>\n",
       "</g>\n",
       "<!-- 5227665152 -->\n",
       "<g id=\"node16\" class=\"node\">\n",
       "<title>5227665152</title>\n",
       "<polygon fill=\"none\" stroke=\"black\" points=\"1192.75,-136.5 1192.75,-185.5 1289.25,-185.5 1289.25,-136.5 1192.75,-136.5\"/>\n",
       "<text text-anchor=\"middle\" x=\"1203.75\" y=\"-168.2\" font-family=\"Times,serif\" font-size=\"14.00\">?</text>\n",
       "<polyline fill=\"none\" stroke=\"black\" points=\"1214.75,-161 1214.75,-185.5\"/>\n",
       "<text text-anchor=\"middle\" x=\"1252\" y=\"-168.2\" font-family=\"Times,serif\" font-size=\"14.00\">data: &#45;1.00</text>\n",
       "<polyline fill=\"none\" stroke=\"black\" points=\"1192.75,-161 1289.25,-161\"/>\n",
       "<text text-anchor=\"middle\" x=\"1241\" y=\"-143.7\" font-family=\"Times,serif\" font-size=\"14.00\">grad: 0.1464</text>\n",
       "</g>\n",
       "<!-- 5227665152&#45;&gt;5227666112+ -->\n",
       "<g id=\"edge17\" class=\"edge\">\n",
       "<title>5227665152&#45;&gt;5227666112+</title>\n",
       "<path fill=\"none\" stroke=\"black\" d=\"M1288.97,-144.66C1298.61,-141.31 1308.58,-137.84 1317.64,-134.69\"/>\n",
       "<polygon fill=\"black\" stroke=\"black\" points=\"1318.48,-137.75 1326.78,-131.16 1316.18,-131.14 1318.48,-137.75\"/>\n",
       "</g>\n",
       "<!-- 5226440448 -->\n",
       "<g id=\"node17\" class=\"node\">\n",
       "<title>5226440448</title>\n",
       "<polygon fill=\"none\" stroke=\"black\" points=\"3.75,-34.5 3.75,-83.5 103.25,-83.5 103.25,-34.5 3.75,-34.5\"/>\n",
       "<text text-anchor=\"middle\" x=\"18.5\" y=\"-66.2\" font-family=\"Times,serif\" font-size=\"14.00\">x1</text>\n",
       "<polyline fill=\"none\" stroke=\"black\" points=\"33.25,-59 33.25,-83.5\"/>\n",
       "<text text-anchor=\"middle\" x=\"68.25\" y=\"-66.2\" font-family=\"Times,serif\" font-size=\"14.00\">data: 2.00</text>\n",
       "<polyline fill=\"none\" stroke=\"black\" points=\"3.75,-59 103.25,-59\"/>\n",
       "<text text-anchor=\"middle\" x=\"53.5\" y=\"-41.7\" font-family=\"Times,serif\" font-size=\"14.00\">grad: &#45;1.5000</text>\n",
       "</g>\n",
       "<!-- 5226440448&#45;&gt;5226442032* -->\n",
       "<g id=\"edge26\" class=\"edge\">\n",
       "<title>5226440448&#45;&gt;5226442032*</title>\n",
       "<path fill=\"none\" stroke=\"black\" d=\"M95.51,-83.36C110.18,-92.07 126.39,-101.7 139.85,-109.69\"/>\n",
       "<polygon fill=\"black\" stroke=\"black\" points=\"137.72,-113.09 148.1,-115.18 141.29,-107.07 137.72,-113.09\"/>\n",
       "</g>\n",
       "<!-- 5226442032 -->\n",
       "<g id=\"node18\" class=\"node\">\n",
       "<title>5226442032</title>\n",
       "<polygon fill=\"none\" stroke=\"black\" points=\"233,-102.5 233,-151.5 353.5,-151.5 353.5,-102.5 233,-102.5\"/>\n",
       "<text text-anchor=\"middle\" x=\"256\" y=\"-134.2\" font-family=\"Times,serif\" font-size=\"14.00\">x1w1</text>\n",
       "<polyline fill=\"none\" stroke=\"black\" points=\"279,-127 279,-151.5\"/>\n",
       "<text text-anchor=\"middle\" x=\"316.25\" y=\"-134.2\" font-family=\"Times,serif\" font-size=\"14.00\">data: &#45;6.00</text>\n",
       "<polyline fill=\"none\" stroke=\"black\" points=\"233,-127 353.5,-127\"/>\n",
       "<text text-anchor=\"middle\" x=\"293.25\" y=\"-109.7\" font-family=\"Times,serif\" font-size=\"14.00\">grad: 0.5000</text>\n",
       "</g>\n",
       "<!-- 5226442032&#45;&gt;5226441552+ -->\n",
       "<g id=\"edge14\" class=\"edge\">\n",
       "<title>5226442032&#45;&gt;5226441552+</title>\n",
       "<path fill=\"none\" stroke=\"black\" d=\"M353.45,-143.6C362.84,-146.23 372.27,-148.88 380.84,-151.28\"/>\n",
       "<polygon fill=\"black\" stroke=\"black\" points=\"379.6,-154.85 390.18,-154.18 381.49,-148.11 379.6,-154.85\"/>\n",
       "</g>\n",
       "<!-- 5226442032*&#45;&gt;5226442032 -->\n",
       "<g id=\"edge6\" class=\"edge\">\n",
       "<title>5226442032*&#45;&gt;5226442032</title>\n",
       "<path fill=\"none\" stroke=\"black\" d=\"M197.31,-127C204.84,-127 213.41,-127 222.27,-127\"/>\n",
       "<polygon fill=\"black\" stroke=\"black\" points=\"222.15,-130.5 232.15,-127 222.15,-123.5 222.15,-130.5\"/>\n",
       "</g>\n",
       "<!-- 5226441552 -->\n",
       "<g id=\"node20\" class=\"node\">\n",
       "<title>5226441552</title>\n",
       "<polygon fill=\"none\" stroke=\"black\" points=\"479.5,-136.5 479.5,-185.5 630,-185.5 630,-136.5 479.5,-136.5\"/>\n",
       "<text text-anchor=\"middle\" x=\"517.5\" y=\"-168.2\" font-family=\"Times,serif\" font-size=\"14.00\">x1w1x2w2</text>\n",
       "<polyline fill=\"none\" stroke=\"black\" points=\"555.5,-161 555.5,-185.5\"/>\n",
       "<text text-anchor=\"middle\" x=\"592.75\" y=\"-168.2\" font-family=\"Times,serif\" font-size=\"14.00\">data: &#45;6.00</text>\n",
       "<polyline fill=\"none\" stroke=\"black\" points=\"479.5,-161 630,-161\"/>\n",
       "<text text-anchor=\"middle\" x=\"554.75\" y=\"-143.7\" font-family=\"Times,serif\" font-size=\"14.00\">grad: 0.5000</text>\n",
       "</g>\n",
       "<!-- 5226441552&#45;&gt;5227663904+ -->\n",
       "<g id=\"edge18\" class=\"edge\">\n",
       "<title>5226441552&#45;&gt;5227663904+</title>\n",
       "<path fill=\"none\" stroke=\"black\" d=\"M629.86,-142.51C639.23,-140.17 648.45,-137.87 656.8,-135.78\"/>\n",
       "<polygon fill=\"black\" stroke=\"black\" points=\"657.37,-139 666.22,-133.18 655.67,-132.21 657.37,-139\"/>\n",
       "</g>\n",
       "<!-- 5226441552+&#45;&gt;5226441552 -->\n",
       "<g id=\"edge7\" class=\"edge\">\n",
       "<title>5226441552+&#45;&gt;5226441552</title>\n",
       "<path fill=\"none\" stroke=\"black\" d=\"M443.77,-161C451.27,-161 459.88,-161 468.91,-161\"/>\n",
       "<polygon fill=\"black\" stroke=\"black\" points=\"468.66,-164.5 478.66,-161 468.66,-157.5 468.66,-164.5\"/>\n",
       "</g>\n",
       "<!-- 5227663712 -->\n",
       "<g id=\"node22\" class=\"node\">\n",
       "<title>5227663712</title>\n",
       "<polygon fill=\"none\" stroke=\"black\" points=\"756.38,-34.5 756.38,-83.5 848.38,-83.5 848.38,-34.5 756.38,-34.5\"/>\n",
       "<text text-anchor=\"middle\" x=\"767.38\" y=\"-66.2\" font-family=\"Times,serif\" font-size=\"14.00\">?</text>\n",
       "<polyline fill=\"none\" stroke=\"black\" points=\"778.38,-59 778.38,-83.5\"/>\n",
       "<text text-anchor=\"middle\" x=\"813.38\" y=\"-66.2\" font-family=\"Times,serif\" font-size=\"14.00\">data: 2.00</text>\n",
       "<polyline fill=\"none\" stroke=\"black\" points=\"756.38,-59 848.38,-59\"/>\n",
       "<text text-anchor=\"middle\" x=\"802.38\" y=\"-41.7\" font-family=\"Times,serif\" font-size=\"14.00\">grad: 0.2203</text>\n",
       "</g>\n",
       "<!-- 5227663712&#45;&gt;5227666640* -->\n",
       "<g id=\"edge28\" class=\"edge\">\n",
       "<title>5227663712&#45;&gt;5227666640*</title>\n",
       "<path fill=\"none\" stroke=\"black\" d=\"M848.29,-73.22C857.69,-76.2 867.45,-79.29 876.39,-82.12\"/>\n",
       "<polygon fill=\"black\" stroke=\"black\" points=\"875.22,-85.74 885.81,-85.42 877.33,-79.06 875.22,-85.74\"/>\n",
       "</g>\n",
       "<!-- 5227666352 -->\n",
       "<g id=\"node23\" class=\"node\">\n",
       "<title>5227666352</title>\n",
       "<polygon fill=\"none\" stroke=\"black\" points=\"1415.25,-37.5 1415.25,-86.5 1507.25,-86.5 1507.25,-37.5 1415.25,-37.5\"/>\n",
       "<text text-anchor=\"middle\" x=\"1426.25\" y=\"-69.2\" font-family=\"Times,serif\" font-size=\"14.00\">?</text>\n",
       "<polyline fill=\"none\" stroke=\"black\" points=\"1437.25,-62 1437.25,-86.5\"/>\n",
       "<text text-anchor=\"middle\" x=\"1472.25\" y=\"-69.2\" font-family=\"Times,serif\" font-size=\"14.00\">data: 6.83</text>\n",
       "<polyline fill=\"none\" stroke=\"black\" points=\"1415.25,-62 1507.25,-62\"/>\n",
       "<text text-anchor=\"middle\" x=\"1461.25\" y=\"-44.7\" font-family=\"Times,serif\" font-size=\"14.00\">grad: &#45;0.1036</text>\n",
       "</g>\n",
       "<!-- 5227663808**&#45;1 -->\n",
       "<g id=\"node28\" class=\"node\">\n",
       "<title>5227663808**&#45;1</title>\n",
       "<ellipse fill=\"none\" stroke=\"black\" cx=\"1589.25\" cy=\"-62\" rx=\"27.81\" ry=\"18\"/>\n",
       "<text text-anchor=\"middle\" x=\"1589.25\" y=\"-56.95\" font-family=\"Times,serif\" font-size=\"14.00\">**&#45;1</text>\n",
       "</g>\n",
       "<!-- 5227666352&#45;&gt;5227663808**&#45;1 -->\n",
       "<g id=\"edge20\" class=\"edge\">\n",
       "<title>5227666352&#45;&gt;5227663808**&#45;1</title>\n",
       "<path fill=\"none\" stroke=\"black\" d=\"M1507.03,-62C1521.17,-62 1536.66,-62 1550.29,-62\"/>\n",
       "<polygon fill=\"black\" stroke=\"black\" points=\"1550.22,-65.5 1560.22,-62 1550.22,-58.5 1550.22,-65.5\"/>\n",
       "</g>\n",
       "<!-- 5227666352+&#45;&gt;5227666352 -->\n",
       "<g id=\"edge8\" class=\"edge\">\n",
       "<title>5227666352+&#45;&gt;5227666352</title>\n",
       "<path fill=\"none\" stroke=\"black\" d=\"M1379.7,-62C1387.27,-62 1395.82,-62 1404.46,-62\"/>\n",
       "<polygon fill=\"black\" stroke=\"black\" points=\"1404.36,-65.5 1414.36,-62 1404.36,-58.5 1404.36,-65.5\"/>\n",
       "</g>\n",
       "<!-- 5227664816 -->\n",
       "<g id=\"node25\" class=\"node\">\n",
       "<title>5227664816</title>\n",
       "<polygon fill=\"none\" stroke=\"black\" points=\"1889.25,-67.5 1889.25,-116.5 1982,-116.5 1982,-67.5 1889.25,-67.5\"/>\n",
       "<text text-anchor=\"middle\" x=\"1900.62\" y=\"-99.2\" font-family=\"Times,serif\" font-size=\"14.00\">o</text>\n",
       "<polyline fill=\"none\" stroke=\"black\" points=\"1912,-92 1912,-116.5\"/>\n",
       "<text text-anchor=\"middle\" x=\"1947\" y=\"-99.2\" font-family=\"Times,serif\" font-size=\"14.00\">data: 0.71</text>\n",
       "<polyline fill=\"none\" stroke=\"black\" points=\"1889.25,-92 1982,-92\"/>\n",
       "<text text-anchor=\"middle\" x=\"1935.62\" y=\"-74.7\" font-family=\"Times,serif\" font-size=\"14.00\">grad: 1.0000</text>\n",
       "</g>\n",
       "<!-- 5227664816*&#45;&gt;5227664816 -->\n",
       "<g id=\"edge9\" class=\"edge\">\n",
       "<title>5227664816*&#45;&gt;5227664816</title>\n",
       "<path fill=\"none\" stroke=\"black\" d=\"M1853.52,-92C1861.11,-92 1869.71,-92 1878.4,-92\"/>\n",
       "<polygon fill=\"black\" stroke=\"black\" points=\"1878.38,-95.5 1888.38,-92 1878.38,-88.5 1878.38,-95.5\"/>\n",
       "</g>\n",
       "<!-- 5227663808 -->\n",
       "<g id=\"node27\" class=\"node\">\n",
       "<title>5227663808</title>\n",
       "<polygon fill=\"none\" stroke=\"black\" points=\"1671.25,-41.5 1671.25,-90.5 1763.25,-90.5 1763.25,-41.5 1671.25,-41.5\"/>\n",
       "<text text-anchor=\"middle\" x=\"1682.25\" y=\"-73.2\" font-family=\"Times,serif\" font-size=\"14.00\">?</text>\n",
       "<polyline fill=\"none\" stroke=\"black\" points=\"1693.25,-66 1693.25,-90.5\"/>\n",
       "<text text-anchor=\"middle\" x=\"1728.25\" y=\"-73.2\" font-family=\"Times,serif\" font-size=\"14.00\">data: 0.15</text>\n",
       "<polyline fill=\"none\" stroke=\"black\" points=\"1671.25,-66 1763.25,-66\"/>\n",
       "<text text-anchor=\"middle\" x=\"1717.25\" y=\"-48.7\" font-family=\"Times,serif\" font-size=\"14.00\">grad: 4.8284</text>\n",
       "</g>\n",
       "<!-- 5227663808&#45;&gt;5227664816* -->\n",
       "<g id=\"edge27\" class=\"edge\">\n",
       "<title>5227663808&#45;&gt;5227664816*</title>\n",
       "<path fill=\"none\" stroke=\"black\" d=\"M1763.01,-76.88C1772.03,-79.07 1781.39,-81.34 1790.03,-83.44\"/>\n",
       "<polygon fill=\"black\" stroke=\"black\" points=\"1788.96,-87.03 1799.5,-85.99 1790.61,-80.22 1788.96,-87.03\"/>\n",
       "</g>\n",
       "<!-- 5227663808**&#45;1&#45;&gt;5227663808 -->\n",
       "<g id=\"edge10\" class=\"edge\">\n",
       "<title>5227663808**&#45;1&#45;&gt;5227663808</title>\n",
       "<path fill=\"none\" stroke=\"black\" d=\"M1617.28,-62.86C1629.96,-63.26 1645.58,-63.76 1660.62,-64.23\"/>\n",
       "<polygon fill=\"black\" stroke=\"black\" points=\"1660.31,-67.76 1670.42,-64.58 1660.54,-60.76 1660.31,-67.76\"/>\n",
       "</g>\n",
       "</g>\n",
       "</svg>\n"
      ],
      "text/plain": [
       "<graphviz.graphs.Digraph at 0x13799ca00>"
      ]
     },
     "execution_count": 255,
     "metadata": {},
     "output_type": "execute_result"
    }
   ],
   "source": [
    "draw_dot(o)"
   ]
  },
  {
   "cell_type": "markdown",
   "id": "fb847c69",
   "metadata": {},
   "source": [
    "## Same graph, but via `torch`"
   ]
  },
  {
   "cell_type": "code",
   "execution_count": 263,
   "id": "918e41a9",
   "metadata": {
    "ExecuteTime": {
     "end_time": "2023-05-24T17:44:21.995466Z",
     "start_time": "2023-05-24T17:44:21.979352Z"
    }
   },
   "outputs": [
    {
     "name": "stdout",
     "output_type": "stream",
     "text": [
      "0.7071066904050358\n",
      "----------\n",
      "w2.grad=tensor([0.], dtype=torch.float64)\n",
      "x2.grad=tensor([0.5000], dtype=torch.float64)\n",
      "w1.grad=tensor([1.0000], dtype=torch.float64)\n",
      "x1.grad=tensor([-1.5000], dtype=torch.float64)\n"
     ]
    }
   ],
   "source": [
    "import torch\n",
    "\n",
    "x1 = torch.Tensor([2]).double();                  x1.requires_grad = True\n",
    "x2 = torch.Tensor([0]).double();                  x2.requires_grad = True\n",
    "w1 = torch.Tensor([-3]).double();                 w1.requires_grad = True\n",
    "w2 = torch.Tensor([1]).double();                  w2.requires_grad = True\n",
    "b = torch.Tensor([6.8813735870195432]).double();  b.requires_grad = True\n",
    "n = x1*w1 + x2*w2 + b;                            #  n.requires_grad = True   -> not required as children have it\n",
    "o = torch.tanh(n)\n",
    "\n",
    "print(o.item())\n",
    "o.backward()\n",
    "\n",
    "print(\"----------\")\n",
    "print(f\"{w2.grad=}\")\n",
    "print(f\"{x2.grad=}\")\n",
    "print(f\"{w1.grad=}\")\n",
    "print(f\"{x1.grad=}\")\n",
    "\n",
    "# This matches our manual version above"
   ]
  },
  {
   "cell_type": "markdown",
   "id": "92d4dfed",
   "metadata": {},
   "source": [
    "## Implement a single `Neuron`"
   ]
  },
  {
   "cell_type": "code",
   "execution_count": 348,
   "id": "dffe7c3d",
   "metadata": {
    "ExecuteTime": {
     "end_time": "2023-05-24T19:09:58.996753Z",
     "start_time": "2023-05-24T19:09:58.982191Z"
    }
   },
   "outputs": [
    {
     "data": {
      "text/plain": [
       "[1, 2, 3, 4, 5, 6]"
      ]
     },
     "execution_count": 348,
     "metadata": {},
     "output_type": "execute_result"
    }
   ],
   "source": [
    "sum((l for l in [[1, 2], [3], [4, 5, 6]]), start=[])"
   ]
  },
  {
   "cell_type": "code",
   "execution_count": 353,
   "id": "554444d8",
   "metadata": {
    "ExecuteTime": {
     "end_time": "2023-05-24T19:25:22.650461Z",
     "start_time": "2023-05-24T19:25:22.630833Z"
    }
   },
   "outputs": [],
   "source": [
    "class Neuron:\n",
    "  \n",
    "  def __init__(self, n_in: int) -> None:\n",
    "    self.w = [Value(random.uniform(-1, 1)) for _ in range(n_in)]\n",
    "    self.b = Value(random.uniform(-1, 1))\n",
    "    \n",
    "  def __call__(self, x):\n",
    "    \"\"\"Perform the execution of inputs against the weights of this Neuron. Execution means dot product.\"\"\"\n",
    "    dotprod = sum((wi*xi for wi, xi in zip(self.w, x)), start=self.b)\n",
    "    out = dotprod.tanh()  # apply non-linearity\n",
    "    return out\n",
    "\n",
    "  def parameters(self):\n",
    "    return self.w + [self.b]\n",
    "\n",
    "class Layer:\n",
    "  def __init__(self, n_in, n_out):\n",
    "    self.neurons = [Neuron(n_in=n_in) for _ in range(n_out)]\n",
    "    \n",
    "  def __call__(self, x):\n",
    "    outs = [neuron(x) for neuron in self.neurons]\n",
    "    return outs[0] if len(outs) == 1 else outs\n",
    "\n",
    "  def parameters(self):\n",
    "    return sum((n.parameters() for n in self.neurons), start=[])\n",
    "\n",
    "\n",
    "class MLP:\n",
    "  \n",
    "  def __init__(self, n_in, n_outs):\n",
    "    \"\"\"Stack multiple layers.\n",
    "    \n",
    "    Args:\n",
    "      n_in: the size of the input data, so how many input neurons we need.\n",
    "      n_outs: a list of the output sizes for each layer -> implicity gives desired number of layers.\n",
    "    \"\"\"\n",
    "    sizes = [n_in] + n_outs\n",
    "    self.layers = [Layer(n_in=sizes[i], n_out=sizes[i+1]) for i in range(len(n_outs))]\n",
    "    \n",
    "  def __call__(self, x):\n",
    "    # call each layer on the inputs, which are overwritten in place on each call\n",
    "    for layer in self.layers:\n",
    "      x = layer(x)\n",
    "    return x\n",
    "\n",
    "  def parameters(self):\n",
    "    return sum((l.parameters() for l in self.layers), start=[])\n"
   ]
  },
  {
   "cell_type": "code",
   "execution_count": 354,
   "id": "f2e7a180",
   "metadata": {
    "ExecuteTime": {
     "end_time": "2023-05-24T19:25:26.851347Z",
     "start_time": "2023-05-24T19:25:26.848319Z"
    }
   },
   "outputs": [
    {
     "data": {
      "text/plain": [
       "Value(data=-0.5910787242716327, grad=0.0, label=?)"
      ]
     },
     "execution_count": 354,
     "metadata": {},
     "output_type": "execute_result"
    }
   ],
   "source": [
    "x = [2.0, 3.0, -1.0]  # input data\n",
    "\n",
    "# n = Neuron(n_inputs=2)\n",
    "# n(x)\n",
    "\n",
    "# L = Layer(n_in=2, n_out=5)\n",
    "# L(x)\n",
    "\n",
    "mlp = MLP(n_in=3, n_outs=[4, 4, 1])\n",
    "mlp(x)"
   ]
  },
  {
   "cell_type": "code",
   "execution_count": 355,
   "id": "69c00420",
   "metadata": {
    "ExecuteTime": {
     "end_time": "2023-05-24T19:25:28.605921Z",
     "start_time": "2023-05-24T19:25:28.592157Z"
    }
   },
   "outputs": [
    {
     "data": {
      "text/plain": [
       "41"
      ]
     },
     "execution_count": 355,
     "metadata": {},
     "output_type": "execute_result"
    }
   ],
   "source": [
    "len(mlp.parameters())"
   ]
  },
  {
   "cell_type": "code",
   "execution_count": 431,
   "id": "6b7e59e8",
   "metadata": {
    "ExecuteTime": {
     "end_time": "2023-05-24T19:54:18.089600Z",
     "start_time": "2023-05-24T19:54:18.081148Z"
    }
   },
   "outputs": [],
   "source": [
    "# Example input data\n",
    "xs = [\n",
    "  [2.0, 3.0, -1.0],\n",
    "  [3.0, -1.0, 0.5],\n",
    "  [0.5, 1.0, 1.0],\n",
    "  [1.0, 1.0, -1.0],\n",
    "]\n",
    "# Targets for binary classification\n",
    "ys = [1.0, -1.0, -1.0, 1.0]\n",
    "\n",
    "# Define the model\n",
    "mlp = MLP(n_in=3, n_outs=[3, 5, 1])"
   ]
  },
  {
   "cell_type": "code",
   "execution_count": 359,
   "id": "94b6beab",
   "metadata": {
    "ExecuteTime": {
     "end_time": "2023-05-24T19:26:55.183678Z",
     "start_time": "2023-05-24T19:26:55.168687Z"
    }
   },
   "outputs": [
    {
     "data": {
      "text/plain": [
       "Value(data=0.04273703353398983, grad=-0.04406248388198129, label=?)"
      ]
     },
     "execution_count": 359,
     "metadata": {},
     "output_type": "execute_result"
    }
   ],
   "source": [
    "mlp.layers[0].neurons[0].w[0]  # we now have a gradient for this single weight (and all others)\n",
    "# We now know in which direction to nudge the weight to move the output in the right direction!"
   ]
  },
  {
   "cell_type": "code",
   "execution_count": 369,
   "id": "6824cd9c",
   "metadata": {
    "ExecuteTime": {
     "end_time": "2023-05-24T19:41:18.588099Z",
     "start_time": "2023-05-24T19:41:18.567238Z"
    }
   },
   "outputs": [
    {
     "data": {
      "text/plain": [
       "Value(data=0.21672099702703126, grad=-0.7776408963728503, label=?)"
      ]
     },
     "execution_count": 369,
     "metadata": {},
     "output_type": "execute_result"
    }
   ],
   "source": [
    "mlp.layers[0].neurons[0].w[0]  # we now have a gradient for this single weight (and all others)\n",
    "# We now know in which direction to nudge the weight to move the output in the right direction!"
   ]
  },
  {
   "cell_type": "code",
   "execution_count": 492,
   "id": "d32f4c2f",
   "metadata": {
    "ExecuteTime": {
     "end_time": "2023-05-25T09:05:07.711439Z",
     "start_time": "2023-05-25T09:05:07.436436Z"
    }
   },
   "outputs": [
    {
     "name": "stdout",
     "output_type": "stream",
     "text": [
      " 0  loss.data=5.212728762069343e-05\n",
      "10  loss.data=5.195112447826117e-05\n",
      "20  loss.data=5.1776118641034876e-05\n",
      "30  loss.data=5.160225886008707e-05\n",
      "40  loss.data=5.142953403095574e-05\n",
      "50  loss.data=5.125793319133413e-05\n",
      "60  loss.data=5.1087445518812015e-05\n",
      "70  loss.data=5.091806032865889e-05\n",
      "80  loss.data=5.0749767071657845e-05\n",
      "90  loss.data=5.058255533195847e-05\n"
     ]
    }
   ],
   "source": [
    "n_epochs = 100\n",
    "lr = 0.1\n",
    "\n",
    "for k in range(100):\n",
    "\n",
    "  # Forward pass\n",
    "  preds = [mlp(x) for x in xs]\n",
    "  # Evaluate the loss\n",
    "  loss = sum((y_true - y_pred)**2 for y_true, y_pred in zip(ys, preds))\n",
    "  \n",
    "  if k % 10 == 0:\n",
    "    print(f\"{k:>2}  {loss.data=}\")\n",
    "\n",
    "  for p in mlp.parameters():\n",
    "    p.grad = 0.0\n",
    "\n",
    "  # Backward pass\n",
    "  loss.backward()\n",
    "\n",
    "  for p in mlp.parameters():\n",
    "    p.data += -lr * p.grad"
   ]
  },
  {
   "cell_type": "code",
   "execution_count": 493,
   "id": "e89728c9",
   "metadata": {
    "ExecuteTime": {
     "end_time": "2023-05-25T09:05:08.862277Z",
     "start_time": "2023-05-25T09:05:08.852437Z"
    }
   },
   "outputs": [
    {
     "data": {
      "text/plain": [
       "[Value(data=0.9978610031074776, grad=-0.004277993785044787, label=?),\n",
       " Value(data=-0.997388458464833, grad=0.005223083070333923, label=?),\n",
       " Value(data=-0.9954922442399273, grad=0.009015511520145347, label=?),\n",
       " Value(data=0.9956736086547724, grad=-0.008652782690455219, label=?)]"
      ]
     },
     "execution_count": 493,
     "metadata": {},
     "output_type": "execute_result"
    }
   ],
   "source": [
    "preds"
   ]
  },
  {
   "cell_type": "code",
   "execution_count": 494,
   "id": "650a7d1e",
   "metadata": {
    "ExecuteTime": {
     "end_time": "2023-05-25T09:05:10.097438Z",
     "start_time": "2023-05-25T09:05:10.088562Z"
    }
   },
   "outputs": [
    {
     "name": "stdout",
     "output_type": "stream",
     "text": [
      "GT    ->  Final preds:\n",
      " 1.00 ->  0.9978610\n",
      "-1.00 -> -0.9973885\n",
      "-1.00 -> -0.9954922\n",
      " 1.00 ->  0.9956736\n"
     ]
    }
   ],
   "source": [
    "print(\"GT    ->  Final preds:\")\n",
    "for y, yhat in zip(ys, preds):\n",
    "  print(f\"{y:>5.2f} -> {yhat.data:>10.7f}\")"
   ]
  },
  {
   "cell_type": "code",
   "execution_count": 419,
   "id": "085bb2d8",
   "metadata": {
    "ExecuteTime": {
     "end_time": "2023-05-24T19:43:25.806298Z",
     "start_time": "2023-05-24T19:43:25.791612Z"
    }
   },
   "outputs": [
    {
     "data": {
      "text/plain": [
       "Value(data=4.9160968226745304e-05, grad=0.0, label=?)"
      ]
     },
     "execution_count": 419,
     "metadata": {},
     "output_type": "execute_result"
    }
   ],
   "source": [
    "# Implement MSE to measure the loss\n",
    "loss = sum((y_true - y_pred)**2 for y_true, y_pred in zip(ys, preds))\n",
    "loss"
   ]
  },
  {
   "cell_type": "code",
   "execution_count": 420,
   "id": "89535452",
   "metadata": {
    "ExecuteTime": {
     "end_time": "2023-05-24T19:43:27.844537Z",
     "start_time": "2023-05-24T19:43:27.834368Z"
    }
   },
   "outputs": [],
   "source": [
    "loss.backward()"
   ]
  },
  {
   "cell_type": "code",
   "execution_count": 421,
   "id": "46f51765",
   "metadata": {
    "ExecuteTime": {
     "end_time": "2023-05-24T19:43:29.801562Z",
     "start_time": "2023-05-24T19:43:29.790261Z"
    }
   },
   "outputs": [],
   "source": [
    "# Go over all weights and slightly update their weights based on the gradient information\n",
    "lr = 0.001\n",
    "for p in mlp.parameters():\n",
    "  p.data += -lr * p.grad  # The gradient shows the sensitivity of the output to this parameter\n",
    "  # a negative gradient (-0.04406 above) means a lower value would increase the loss\n",
    "  # a positive gradient would mean that a lower value would decrease the loss\n",
    "  # We want to decrease the loss, therefore we flip the sign on the gradient before applying the update"
   ]
  },
  {
   "cell_type": "markdown",
   "id": "9d72eb15",
   "metadata": {},
   "source": [
    "Run backprop via our backward functions, ensuring to execute in the correct order.\n",
    "\n",
    "Afterwards, we must implement the iteration such that we can perform this same cascade in one call."
   ]
  },
  {
   "cell_type": "code",
   "execution_count": null,
   "id": "91cee020",
   "metadata": {},
   "outputs": [],
   "source": []
  },
  {
   "cell_type": "code",
   "execution_count": 162,
   "id": "33fc7d1a",
   "metadata": {
    "ExecuteTime": {
     "end_time": "2023-05-22T19:44:11.368883Z",
     "start_time": "2023-05-22T19:44:11.364969Z"
    }
   },
   "outputs": [],
   "source": [
    "o._backward()"
   ]
  },
  {
   "cell_type": "code",
   "execution_count": 163,
   "id": "142a32b7",
   "metadata": {
    "ExecuteTime": {
     "end_time": "2023-05-22T19:44:11.924973Z",
     "start_time": "2023-05-22T19:44:11.918320Z"
    }
   },
   "outputs": [],
   "source": [
    "n._backward()  # route gradients through the + op"
   ]
  },
  {
   "cell_type": "code",
   "execution_count": 164,
   "id": "f729e624",
   "metadata": {
    "ExecuteTime": {
     "end_time": "2023-05-22T19:44:12.505872Z",
     "start_time": "2023-05-22T19:44:12.498907Z"
    }
   },
   "outputs": [],
   "source": [
    "b._backward()  # has no effect, as b is a leaf node, and the backward function is therefore a noop"
   ]
  },
  {
   "cell_type": "code",
   "execution_count": 165,
   "id": "10e1a3f3",
   "metadata": {
    "ExecuteTime": {
     "end_time": "2023-05-22T19:44:13.643104Z",
     "start_time": "2023-05-22T19:44:13.632076Z"
    }
   },
   "outputs": [],
   "source": [
    "x1w1x2w2._backward()  # routes gradients again, as the nodes op is a +"
   ]
  },
  {
   "cell_type": "code",
   "execution_count": 166,
   "id": "a734371f",
   "metadata": {
    "ExecuteTime": {
     "end_time": "2023-05-22T19:44:14.533993Z",
     "start_time": "2023-05-22T19:44:14.529717Z"
    }
   },
   "outputs": [],
   "source": [
    "x1w1._backward()\n",
    "x2w2._backward()"
   ]
  },
  {
   "cell_type": "code",
   "execution_count": 168,
   "id": "d46975c1",
   "metadata": {
    "ExecuteTime": {
     "end_time": "2023-05-22T19:45:20.758957Z",
     "start_time": "2023-05-22T19:45:20.753291Z"
    }
   },
   "outputs": [],
   "source": [
    "# Calling _backward on the remaining leaf nodes does nothing\n",
    "x1._backward()\n",
    "w1._backward()\n",
    "x2._backward()\n",
    "w2._backward()"
   ]
  },
  {
   "cell_type": "markdown",
   "id": "0ca0a17a",
   "metadata": {},
   "source": [
    "As well as calling _backward() on all the nodes in the correct order, we must also only call backward on a node after it has already been called on all the previous nodes; all of its dependencies.\n",
    "\n",
    "We can perform a topological sort in order to map out these dependendencies and give ourselves an order to call _backward() on the nodes."
   ]
  },
  {
   "cell_type": "code",
   "execution_count": null,
   "id": "be45cf50",
   "metadata": {},
   "outputs": [],
   "source": []
  },
  {
   "cell_type": "markdown",
   "id": "307f2a88",
   "metadata": {},
   "source": [
    "## Test code"
   ]
  },
  {
   "cell_type": "markdown",
   "id": "1f7bf758",
   "metadata": {},
   "source": [
    "$$tanh(x) = \\frac{e^{2x} -1}{e^{2x} + 1}$$\n",
    "\n",
    "$$\\frac{dtanh}{dx} = \\frac{u}{v}$$\n",
    "\n",
    "$$tanh(x) = \\frac{u}{v}$$\n",
    "\n",
    "where;\n",
    "\n",
    "$$u = e^{2x} -1$$\n",
    "\n",
    "$$v = (e^{2x} + 1)^{-1}$$\n",
    "\n",
    "Meaning,\n",
    "\n",
    "$$\\frac{du}{dx} = 2e^{2x}$$\n",
    "\n",
    "$$\\frac{dv}{dx} = -1 * 2e^{2x} * (e^{2x} + 1)^{-2}$$\n",
    "\n",
    "$$\\frac{dv}{dx} = -2e^{2x} * (e^{2x} + 1)^{-2}$$\n",
    "\n",
    "Applying the chain rule for derivatives:\n",
    "\n",
    "$$\\frac{dtanh}{dx} = v \\cdot \\frac{du}{dx} - u \\cdot \\frac{dv}{dx}$$\n",
    "\n",
    "Multiply out:\n",
    "\n",
    "$$ ((e^{2x} + 1)^{-1} \\cdot 2e^{2x}) - ((e^{2x} -1) \\cdot (-2e^{2x} \\cdot (e^{2x} + 1)^{-2}) $$\n",
    "\n",
    "Simplify:\n",
    "\n",
    "...\n",
    "\n",
    "Result:\n",
    "\n",
    "$$\\frac{dtanh(x)}{dx} = 1 - tanh(x)^2$$"
   ]
  },
  {
   "cell_type": "code",
   "execution_count": null,
   "id": "ad642b23",
   "metadata": {},
   "outputs": [],
   "source": [
    "\n",
    "draw_dot()"
   ]
  },
  {
   "cell_type": "code",
   "execution_count": 133,
   "id": "136514b2",
   "metadata": {
    "ExecuteTime": {
     "end_time": "2023-05-22T19:01:28.506523Z",
     "start_time": "2023-05-22T19:01:28.427014Z"
    }
   },
   "outputs": [
    {
     "data": {
      "image/svg+xml": [
       "<?xml version=\"1.0\" encoding=\"UTF-8\" standalone=\"no\"?>\n",
       "<!DOCTYPE svg PUBLIC \"-//W3C//DTD SVG 1.1//EN\"\n",
       " \"http://www.w3.org/Graphics/SVG/1.1/DTD/svg11.dtd\">\n",
       "<!-- Generated by graphviz version 8.0.5 (20230430.1635)\n",
       " -->\n",
       "<!-- Pages: 1 -->\n",
       "<svg width=\"986pt\" height=\"262pt\"\n",
       " viewBox=\"0.00 0.00 985.50 262.00\" xmlns=\"http://www.w3.org/2000/svg\" xmlns:xlink=\"http://www.w3.org/1999/xlink\">\n",
       "<g id=\"graph0\" class=\"graph\" transform=\"scale(1 1) rotate(0) translate(4 258)\">\n",
       "<polygon fill=\"white\" stroke=\"none\" points=\"-4,4 -4,-258 981.5,-258 981.5,4 -4,4\"/>\n",
       "<!-- 4952193536 -->\n",
       "<g id=\"node1\" class=\"node\">\n",
       "<title>4952193536</title>\n",
       "<polygon fill=\"none\" stroke=\"black\" points=\"2.25,-204.5 2.25,-253.5 104.75,-253.5 104.75,-204.5 2.25,-204.5\"/>\n",
       "<text text-anchor=\"middle\" x=\"18.5\" y=\"-236.2\" font-family=\"Times,serif\" font-size=\"14.00\">w2</text>\n",
       "<polyline fill=\"none\" stroke=\"black\" points=\"34.75,-229 34.75,-253.5\"/>\n",
       "<text text-anchor=\"middle\" x=\"69.75\" y=\"-236.2\" font-family=\"Times,serif\" font-size=\"14.00\">data: 1.00</text>\n",
       "<polyline fill=\"none\" stroke=\"black\" points=\"2.25,-229 104.75,-229\"/>\n",
       "<text text-anchor=\"middle\" x=\"53.5\" y=\"-211.7\" font-family=\"Times,serif\" font-size=\"14.00\">grad: 0.0000</text>\n",
       "</g>\n",
       "<!-- 4952191952* -->\n",
       "<g id=\"node13\" class=\"node\">\n",
       "<title>4952191952*</title>\n",
       "<ellipse fill=\"none\" stroke=\"black\" cx=\"170\" cy=\"-161\" rx=\"27\" ry=\"18\"/>\n",
       "<text text-anchor=\"middle\" x=\"170\" y=\"-155.95\" font-family=\"Times,serif\" font-size=\"14.00\">*</text>\n",
       "</g>\n",
       "<!-- 4952193536&#45;&gt;4952191952* -->\n",
       "<g id=\"edge7\" class=\"edge\">\n",
       "<title>4952193536&#45;&gt;4952191952*</title>\n",
       "<path fill=\"none\" stroke=\"black\" d=\"M95.51,-204.64C110.18,-195.93 126.39,-186.3 139.85,-178.31\"/>\n",
       "<polygon fill=\"black\" stroke=\"black\" points=\"141.29,-180.93 148.1,-172.82 137.72,-174.91 141.29,-180.93\"/>\n",
       "</g>\n",
       "<!-- 4952193680 -->\n",
       "<g id=\"node2\" class=\"node\">\n",
       "<title>4952193680</title>\n",
       "<polygon fill=\"none\" stroke=\"black\" points=\"884.75,-68.5 884.75,-117.5 977.5,-117.5 977.5,-68.5 884.75,-68.5\"/>\n",
       "<text text-anchor=\"middle\" x=\"896.12\" y=\"-100.2\" font-family=\"Times,serif\" font-size=\"14.00\">o</text>\n",
       "<polyline fill=\"none\" stroke=\"black\" points=\"907.5,-93 907.5,-117.5\"/>\n",
       "<text text-anchor=\"middle\" x=\"942.5\" y=\"-100.2\" font-family=\"Times,serif\" font-size=\"14.00\">data: 0.71</text>\n",
       "<polyline fill=\"none\" stroke=\"black\" points=\"884.75,-93 977.5,-93\"/>\n",
       "<text text-anchor=\"middle\" x=\"931.12\" y=\"-75.7\" font-family=\"Times,serif\" font-size=\"14.00\">grad: 1.0000</text>\n",
       "</g>\n",
       "<!-- 4952192240 -->\n",
       "<g id=\"node3\" class=\"node\">\n",
       "<title>4952192240</title>\n",
       "<polygon fill=\"none\" stroke=\"black\" points=\"0,-68.5 0,-117.5 107,-117.5 107,-68.5 0,-68.5\"/>\n",
       "<text text-anchor=\"middle\" x=\"16.25\" y=\"-100.2\" font-family=\"Times,serif\" font-size=\"14.00\">w1</text>\n",
       "<polyline fill=\"none\" stroke=\"black\" points=\"32.5,-93 32.5,-117.5\"/>\n",
       "<text text-anchor=\"middle\" x=\"69.75\" y=\"-100.2\" font-family=\"Times,serif\" font-size=\"14.00\">data: &#45;3.00</text>\n",
       "<polyline fill=\"none\" stroke=\"black\" points=\"0,-93 107,-93\"/>\n",
       "<text text-anchor=\"middle\" x=\"53.5\" y=\"-75.7\" font-family=\"Times,serif\" font-size=\"14.00\">grad: 1.0000</text>\n",
       "</g>\n",
       "<!-- 4952194304* -->\n",
       "<g id=\"node5\" class=\"node\">\n",
       "<title>4952194304*</title>\n",
       "<ellipse fill=\"none\" stroke=\"black\" cx=\"170\" cy=\"-93\" rx=\"27\" ry=\"18\"/>\n",
       "<text text-anchor=\"middle\" x=\"170\" y=\"-87.95\" font-family=\"Times,serif\" font-size=\"14.00\">*</text>\n",
       "</g>\n",
       "<!-- 4952192240&#45;&gt;4952194304* -->\n",
       "<g id=\"edge8\" class=\"edge\">\n",
       "<title>4952192240&#45;&gt;4952194304*</title>\n",
       "<path fill=\"none\" stroke=\"black\" d=\"M106.72,-93C115.22,-93 123.87,-93 131.91,-93\"/>\n",
       "<polygon fill=\"black\" stroke=\"black\" points=\"131.79,-96.5 141.79,-93 131.79,-89.5 131.79,-96.5\"/>\n",
       "</g>\n",
       "<!-- 4952194304 -->\n",
       "<g id=\"node4\" class=\"node\">\n",
       "<title>4952194304</title>\n",
       "<polygon fill=\"none\" stroke=\"black\" points=\"233,-68.5 233,-117.5 353.5,-117.5 353.5,-68.5 233,-68.5\"/>\n",
       "<text text-anchor=\"middle\" x=\"256\" y=\"-100.2\" font-family=\"Times,serif\" font-size=\"14.00\">x1w1</text>\n",
       "<polyline fill=\"none\" stroke=\"black\" points=\"279,-93 279,-117.5\"/>\n",
       "<text text-anchor=\"middle\" x=\"316.25\" y=\"-100.2\" font-family=\"Times,serif\" font-size=\"14.00\">data: &#45;6.00</text>\n",
       "<polyline fill=\"none\" stroke=\"black\" points=\"233,-93 353.5,-93\"/>\n",
       "<text text-anchor=\"middle\" x=\"293.25\" y=\"-75.7\" font-family=\"Times,serif\" font-size=\"14.00\">grad: 0.5000</text>\n",
       "</g>\n",
       "<!-- 4952193968+ -->\n",
       "<g id=\"node11\" class=\"node\">\n",
       "<title>4952193968+</title>\n",
       "<ellipse fill=\"none\" stroke=\"black\" cx=\"416.5\" cy=\"-127\" rx=\"27\" ry=\"18\"/>\n",
       "<text text-anchor=\"middle\" x=\"416.5\" y=\"-121.95\" font-family=\"Times,serif\" font-size=\"14.00\">+</text>\n",
       "</g>\n",
       "<!-- 4952194304&#45;&gt;4952193968+ -->\n",
       "<g id=\"edge5\" class=\"edge\">\n",
       "<title>4952194304&#45;&gt;4952193968+</title>\n",
       "<path fill=\"none\" stroke=\"black\" d=\"M353.45,-109.6C362.84,-112.23 372.27,-114.88 380.84,-117.28\"/>\n",
       "<polygon fill=\"black\" stroke=\"black\" points=\"379.6,-120.85 390.18,-120.18 381.49,-114.11 379.6,-120.85\"/>\n",
       "</g>\n",
       "<!-- 4952194304*&#45;&gt;4952194304 -->\n",
       "<g id=\"edge1\" class=\"edge\">\n",
       "<title>4952194304*&#45;&gt;4952194304</title>\n",
       "<path fill=\"none\" stroke=\"black\" d=\"M197.31,-93C204.84,-93 213.41,-93 222.27,-93\"/>\n",
       "<polygon fill=\"black\" stroke=\"black\" points=\"222.15,-96.5 232.15,-93 222.15,-89.5 222.15,-96.5\"/>\n",
       "</g>\n",
       "<!-- 4952194880 -->\n",
       "<g id=\"node6\" class=\"node\">\n",
       "<title>4952194880</title>\n",
       "<polygon fill=\"none\" stroke=\"black\" points=\"756,-68.5 756,-117.5 848.75,-117.5 848.75,-68.5 756,-68.5\"/>\n",
       "<text text-anchor=\"middle\" x=\"767.38\" y=\"-100.2\" font-family=\"Times,serif\" font-size=\"14.00\">n</text>\n",
       "<polyline fill=\"none\" stroke=\"black\" points=\"778.75,-93 778.75,-117.5\"/>\n",
       "<text text-anchor=\"middle\" x=\"813.75\" y=\"-100.2\" font-family=\"Times,serif\" font-size=\"14.00\">data: 0.88</text>\n",
       "<polyline fill=\"none\" stroke=\"black\" points=\"756,-93 848.75,-93\"/>\n",
       "<text text-anchor=\"middle\" x=\"802.38\" y=\"-75.7\" font-family=\"Times,serif\" font-size=\"14.00\">grad: 0.5000</text>\n",
       "</g>\n",
       "<!-- 4952194880&#45;&gt;4952193680 -->\n",
       "<g id=\"edge13\" class=\"edge\">\n",
       "<title>4952194880&#45;&gt;4952193680</title>\n",
       "<path fill=\"none\" stroke=\"black\" d=\"M848.42,-93C856.72,-93 865.49,-93 874.07,-93\"/>\n",
       "<polygon fill=\"black\" stroke=\"black\" points=\"873.8,-96.5 883.8,-93 873.8,-89.5 873.8,-96.5\"/>\n",
       "</g>\n",
       "<!-- 4952194880+ -->\n",
       "<g id=\"node7\" class=\"node\">\n",
       "<title>4952194880+</title>\n",
       "<ellipse fill=\"none\" stroke=\"black\" cx=\"693\" cy=\"-93\" rx=\"27\" ry=\"18\"/>\n",
       "<text text-anchor=\"middle\" x=\"693\" y=\"-87.95\" font-family=\"Times,serif\" font-size=\"14.00\">+</text>\n",
       "</g>\n",
       "<!-- 4952194880+&#45;&gt;4952194880 -->\n",
       "<g id=\"edge2\" class=\"edge\">\n",
       "<title>4952194880+&#45;&gt;4952194880</title>\n",
       "<path fill=\"none\" stroke=\"black\" d=\"M720.27,-93C727.86,-93 736.46,-93 745.15,-93\"/>\n",
       "<polygon fill=\"black\" stroke=\"black\" points=\"745.13,-96.5 755.13,-93 745.13,-89.5 745.13,-96.5\"/>\n",
       "</g>\n",
       "<!-- 4952192864 -->\n",
       "<g id=\"node8\" class=\"node\">\n",
       "<title>4952192864</title>\n",
       "<polygon fill=\"none\" stroke=\"black\" points=\"508.38,-34.5 508.38,-83.5 601.12,-83.5 601.12,-34.5 508.38,-34.5\"/>\n",
       "<text text-anchor=\"middle\" x=\"519.75\" y=\"-66.2\" font-family=\"Times,serif\" font-size=\"14.00\">b</text>\n",
       "<polyline fill=\"none\" stroke=\"black\" points=\"531.12,-59 531.12,-83.5\"/>\n",
       "<text text-anchor=\"middle\" x=\"566.12\" y=\"-66.2\" font-family=\"Times,serif\" font-size=\"14.00\">data: 6.88</text>\n",
       "<polyline fill=\"none\" stroke=\"black\" points=\"508.38,-59 601.12,-59\"/>\n",
       "<text text-anchor=\"middle\" x=\"554.75\" y=\"-41.7\" font-family=\"Times,serif\" font-size=\"14.00\">grad: 0.5000</text>\n",
       "</g>\n",
       "<!-- 4952192864&#45;&gt;4952194880+ -->\n",
       "<g id=\"edge12\" class=\"edge\">\n",
       "<title>4952192864&#45;&gt;4952194880+</title>\n",
       "<path fill=\"none\" stroke=\"black\" d=\"M601.12,-70.32C619.28,-74.85 639.88,-79.99 656.87,-84.23\"/>\n",
       "<polygon fill=\"black\" stroke=\"black\" points=\"655.9,-87.85 666.45,-86.87 657.6,-81.06 655.9,-87.85\"/>\n",
       "</g>\n",
       "<!-- 4952191904 -->\n",
       "<g id=\"node9\" class=\"node\">\n",
       "<title>4952191904</title>\n",
       "<polygon fill=\"none\" stroke=\"black\" points=\"3.75,-0.5 3.75,-49.5 103.25,-49.5 103.25,-0.5 3.75,-0.5\"/>\n",
       "<text text-anchor=\"middle\" x=\"18.5\" y=\"-32.2\" font-family=\"Times,serif\" font-size=\"14.00\">x1</text>\n",
       "<polyline fill=\"none\" stroke=\"black\" points=\"33.25,-25 33.25,-49.5\"/>\n",
       "<text text-anchor=\"middle\" x=\"68.25\" y=\"-32.2\" font-family=\"Times,serif\" font-size=\"14.00\">data: 2.00</text>\n",
       "<polyline fill=\"none\" stroke=\"black\" points=\"3.75,-25 103.25,-25\"/>\n",
       "<text text-anchor=\"middle\" x=\"53.5\" y=\"-7.7\" font-family=\"Times,serif\" font-size=\"14.00\">grad: &#45;1.5000</text>\n",
       "</g>\n",
       "<!-- 4952191904&#45;&gt;4952194304* -->\n",
       "<g id=\"edge10\" class=\"edge\">\n",
       "<title>4952191904&#45;&gt;4952194304*</title>\n",
       "<path fill=\"none\" stroke=\"black\" d=\"M95.51,-49.36C110.18,-58.07 126.39,-67.7 139.85,-75.69\"/>\n",
       "<polygon fill=\"black\" stroke=\"black\" points=\"137.72,-79.09 148.1,-81.18 141.29,-73.07 137.72,-79.09\"/>\n",
       "</g>\n",
       "<!-- 4952193968 -->\n",
       "<g id=\"node10\" class=\"node\">\n",
       "<title>4952193968</title>\n",
       "<polygon fill=\"none\" stroke=\"black\" points=\"479.5,-102.5 479.5,-151.5 630,-151.5 630,-102.5 479.5,-102.5\"/>\n",
       "<text text-anchor=\"middle\" x=\"517.5\" y=\"-134.2\" font-family=\"Times,serif\" font-size=\"14.00\">x1w1x2w2</text>\n",
       "<polyline fill=\"none\" stroke=\"black\" points=\"555.5,-127 555.5,-151.5\"/>\n",
       "<text text-anchor=\"middle\" x=\"592.75\" y=\"-134.2\" font-family=\"Times,serif\" font-size=\"14.00\">data: &#45;6.00</text>\n",
       "<polyline fill=\"none\" stroke=\"black\" points=\"479.5,-127 630,-127\"/>\n",
       "<text text-anchor=\"middle\" x=\"554.75\" y=\"-109.7\" font-family=\"Times,serif\" font-size=\"14.00\">grad: 0.5000</text>\n",
       "</g>\n",
       "<!-- 4952193968&#45;&gt;4952194880+ -->\n",
       "<g id=\"edge9\" class=\"edge\">\n",
       "<title>4952193968&#45;&gt;4952194880+</title>\n",
       "<path fill=\"none\" stroke=\"black\" d=\"M629.86,-108.51C639.23,-106.17 648.45,-103.87 656.8,-101.78\"/>\n",
       "<polygon fill=\"black\" stroke=\"black\" points=\"657.37,-105 666.22,-99.18 655.67,-98.21 657.37,-105\"/>\n",
       "</g>\n",
       "<!-- 4952193968+&#45;&gt;4952193968 -->\n",
       "<g id=\"edge3\" class=\"edge\">\n",
       "<title>4952193968+&#45;&gt;4952193968</title>\n",
       "<path fill=\"none\" stroke=\"black\" d=\"M443.77,-127C451.27,-127 459.88,-127 468.91,-127\"/>\n",
       "<polygon fill=\"black\" stroke=\"black\" points=\"468.66,-130.5 478.66,-127 468.66,-123.5 468.66,-130.5\"/>\n",
       "</g>\n",
       "<!-- 4952191952 -->\n",
       "<g id=\"node12\" class=\"node\">\n",
       "<title>4952191952</title>\n",
       "<polygon fill=\"none\" stroke=\"black\" points=\"235.25,-136.5 235.25,-185.5 351.25,-185.5 351.25,-136.5 235.25,-136.5\"/>\n",
       "<text text-anchor=\"middle\" x=\"258.25\" y=\"-168.2\" font-family=\"Times,serif\" font-size=\"14.00\">x2w2</text>\n",
       "<polyline fill=\"none\" stroke=\"black\" points=\"281.25,-161 281.25,-185.5\"/>\n",
       "<text text-anchor=\"middle\" x=\"316.25\" y=\"-168.2\" font-family=\"Times,serif\" font-size=\"14.00\">data: 0.00</text>\n",
       "<polyline fill=\"none\" stroke=\"black\" points=\"235.25,-161 351.25,-161\"/>\n",
       "<text text-anchor=\"middle\" x=\"293.25\" y=\"-143.7\" font-family=\"Times,serif\" font-size=\"14.00\">grad: 0.5000</text>\n",
       "</g>\n",
       "<!-- 4952191952&#45;&gt;4952193968+ -->\n",
       "<g id=\"edge6\" class=\"edge\">\n",
       "<title>4952191952&#45;&gt;4952193968+</title>\n",
       "<path fill=\"none\" stroke=\"black\" d=\"M350.97,-145.1C361.16,-142.24 371.5,-139.34 380.82,-136.72\"/>\n",
       "<polygon fill=\"black\" stroke=\"black\" points=\"381.55,-139.87 390.24,-133.8 379.66,-133.13 381.55,-139.87\"/>\n",
       "</g>\n",
       "<!-- 4952191952*&#45;&gt;4952191952 -->\n",
       "<g id=\"edge4\" class=\"edge\">\n",
       "<title>4952191952*&#45;&gt;4952191952</title>\n",
       "<path fill=\"none\" stroke=\"black\" d=\"M197.31,-161C205.51,-161 214.95,-161 224.64,-161\"/>\n",
       "<polygon fill=\"black\" stroke=\"black\" points=\"224.63,-164.5 234.63,-161 224.63,-157.5 224.63,-164.5\"/>\n",
       "</g>\n",
       "<!-- 4952192480 -->\n",
       "<g id=\"node14\" class=\"node\">\n",
       "<title>4952192480</title>\n",
       "<polygon fill=\"none\" stroke=\"black\" points=\"3.75,-136.5 3.75,-185.5 103.25,-185.5 103.25,-136.5 3.75,-136.5\"/>\n",
       "<text text-anchor=\"middle\" x=\"18.5\" y=\"-168.2\" font-family=\"Times,serif\" font-size=\"14.00\">x2</text>\n",
       "<polyline fill=\"none\" stroke=\"black\" points=\"33.25,-161 33.25,-185.5\"/>\n",
       "<text text-anchor=\"middle\" x=\"68.25\" y=\"-168.2\" font-family=\"Times,serif\" font-size=\"14.00\">data: 0.00</text>\n",
       "<polyline fill=\"none\" stroke=\"black\" points=\"3.75,-161 103.25,-161\"/>\n",
       "<text text-anchor=\"middle\" x=\"53.5\" y=\"-143.7\" font-family=\"Times,serif\" font-size=\"14.00\">grad: 0.5000</text>\n",
       "</g>\n",
       "<!-- 4952192480&#45;&gt;4952191952* -->\n",
       "<g id=\"edge11\" class=\"edge\">\n",
       "<title>4952192480&#45;&gt;4952191952*</title>\n",
       "<path fill=\"none\" stroke=\"black\" d=\"M103.06,-161C112.68,-161 122.63,-161 131.8,-161\"/>\n",
       "<polygon fill=\"black\" stroke=\"black\" points=\"131.52,-164.5 141.52,-161 131.52,-157.5 131.52,-164.5\"/>\n",
       "</g>\n",
       "</g>\n",
       "</svg>\n"
      ],
      "text/plain": [
       "<graphviz.graphs.Digraph at 0x1265a5a00>"
      ]
     },
     "execution_count": 133,
     "metadata": {},
     "output_type": "execute_result"
    }
   ],
   "source": [
    "# Perform backprop - compute the gradients\n",
    "\n",
    "# Derivative of the output is always just 1.0\n",
    "o.grad = 1.0\n",
    "\n",
    "# Backprop through tanh\n",
    "# o = tanh(n)\n",
    "# do/dn = 1 - tanh(n)**2\n",
    "# We know already tanh(n) just gives o:\n",
    "dodn = 1 - o.data**2\n",
    "n.grad = dodn\n",
    "\n",
    "# Backprop into x1w1x2w2 and our bias\n",
    "# n = x1w1x2w2 + b\n",
    "dndX = 1.0  # X short for x1w1x2w2\n",
    "dndb = 1.0\n",
    "# do/dX = do/dn * dndX\n",
    "dodX = n.grad * dndX\n",
    "x1w1x2w2.grad = dodX\n",
    "# do/dX = do/dn * dndb\n",
    "dodb = n.grad * dndb\n",
    "b.grad = dodb\n",
    "\n",
    "# Going through another + op, so simply replicate gradients backwards to input nodes of x1w1x2w2\n",
    "x1w1.grad = x1w1x2w2.grad\n",
    "x2w2.grad = x1w1x2w2.grad\n",
    "\n",
    "# Back through multiplication of inputs and weights\n",
    "# x1w1 = x1 * w1\n",
    "dx1w1_dw1 = x1.data\n",
    "# do/dw1 = do/dx1w1 * dx1w1/dw1\n",
    "do_dw1 = x1w1.grad * dx1w1_dw1\n",
    "w1.grad = do_dw1\n",
    "\n",
    "# do/dx1 = do/dx1w1 * dx1w1/dx1\n",
    "dx1w1_dx1 = w1.data\n",
    "do_dx1 = x1w1.grad * dx1w1_dx1\n",
    "x1.grad = do_dx1\n",
    "\n",
    "# x2w2 = x2 * w2\n",
    "# do/dx2 = do/dx2w2 * dx2w2/dx2\n",
    "dx2w2_dx2 = w2.data\n",
    "do_dx2 = x2w2.grad * dx2w2_dx2\n",
    "x2.grad = do_dx2\n",
    "\n",
    "# do/dw2 = do/dx2w2 * dx2w2/dw2\n",
    "dx2w2_dw2 = x2.data\n",
    "do_dw2 = x2w2.grad * dx2w2_dw2\n",
    "w2.grad = do_dw2"
   ]
  },
  {
   "cell_type": "code",
   "execution_count": 131,
   "id": "d56b20b4",
   "metadata": {
    "ExecuteTime": {
     "end_time": "2023-05-22T09:09:11.874611Z",
     "start_time": "2023-05-22T09:09:11.864802Z"
    }
   },
   "outputs": [
    {
     "name": "stdout",
     "output_type": "stream",
     "text": [
      "0.0\n"
     ]
    }
   ],
   "source": [
    "def lol():\n",
    "  \"\"\"Perform manual gradient check - verify the change in the output due to a delta-change in a node.\"\"\"\n",
    "  h = 0.000001\n",
    "\n",
    "  # Inputs: x1, x2\n",
    "  x1 = Value(2.0, label=\"x1\")\n",
    "  x2 = Value(0.0, label=\"x1\")\n",
    "  # Weights: w1, w2\n",
    "  w1 = Value(-3.0, label=\"w1\") \n",
    "  w2 = Value(1.0, label=\"w2\")\n",
    "  # Bias of the neuron: b\n",
    "  b = Value(6.8813735870195432, label=\"b\")\n",
    "\n",
    "  # Replicate the process of a neuron: sum(inputs*weights) + b\n",
    "  x1w1 = x1 * w1; x1w1.label = \"x1w1\"\n",
    "  x2w2 = x2 * w2; x2w2.label = \"x2w2\"\n",
    "  x1w1x2w2 = x1w1 + x2w2; x1w1x2w2.label = \"x1w1x2w2\"\n",
    "  n = x1w1x2w2 + b; n.label = \"n\"\n",
    "\n",
    "  # Now apply activation function\n",
    "  o = n.tanh(); o.label = \"o\"\n",
    "  L1 = o.data\n",
    "  \n",
    "  # Make a change\n",
    "  w1.data += h\n",
    "\n",
    "  x1 = Value(2.0, label=\"x1\")\n",
    "  x2 = Value(0.0, label=\"x1\")\n",
    "  # Weights: w1, w2\n",
    "  w1 = Value(-3.0, label=\"w1\")\n",
    "  w2 = Value(1.0, label=\"w2\")\n",
    "  # Bias of the neuron: b\n",
    "  b = Value(6.8813735870195432, label=\"b\")\n",
    "\n",
    "  # Replicate the process of a neuron: sum(inputs*weights) + b\n",
    "  x1w1 = x1 * w1; x1w1.label = \"x1w1\"\n",
    "  x2w2 = x2 * w2; x2w2.label = \"x2w2\"\n",
    "  x1w1x2w2 = x1w1 + x2w2; x1w1x2w2.label = \"x1w1x2w2\"\n",
    "  n = x1w1x2w2 + b; n.label = \"n\"\n",
    "\n",
    "  # Now apply activation function\n",
    "  o = n.tanh(); o.label = \"o\"\n",
    "  L2 = o.data\n",
    "\n",
    "  grad = (L2 - L1) / h\n",
    "  print(grad)\n",
    "  \n",
    "lol()"
   ]
  },
  {
   "cell_type": "code",
   "execution_count": null,
   "id": "fffb8495",
   "metadata": {},
   "outputs": [],
   "source": []
  }
 ],
 "metadata": {
  "kernelspec": {
   "display_name": "Python 3 (ipykernel)",
   "language": "python",
   "name": "python3"
  },
  "language_info": {
   "codemirror_mode": {
    "name": "ipython",
    "version": 3
   },
   "file_extension": ".py",
   "mimetype": "text/x-python",
   "name": "python",
   "nbconvert_exporter": "python",
   "pygments_lexer": "ipython3",
   "version": "3.9.15"
  }
 },
 "nbformat": 4,
 "nbformat_minor": 5
}
