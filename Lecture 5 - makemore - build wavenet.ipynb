{
 "cells": [
  {
   "cell_type": "code",
   "execution_count": 1,
   "id": "fa92e77f",
   "metadata": {
    "ExecuteTime": {
     "end_time": "2023-05-30T21:31:02.789089Z",
     "start_time": "2023-05-30T21:31:01.849319Z"
    }
   },
   "outputs": [],
   "source": [
    "import random\n",
    "import time\n",
    "\n",
    "from string import ascii_lowercase\n",
    "\n",
    "import pandas as pd\n",
    "import torch\n",
    "import torch.nn.functional as F\n",
    "import matplotlib.pyplot as plt\n",
    "\n",
    "EPS = 1e-7\n",
    "\n",
    "%matplotlib inline"
   ]
  },
  {
   "cell_type": "markdown",
   "id": "fdcd31a4",
   "metadata": {},
   "source": [
    "## Dataset "
   ]
  },
  {
   "cell_type": "code",
   "execution_count": 3,
   "id": "3cc9ed21",
   "metadata": {
    "ExecuteTime": {
     "end_time": "2023-05-30T21:32:20.358285Z",
     "start_time": "2023-05-30T21:32:20.312616Z"
    }
   },
   "outputs": [
    {
     "data": {
      "text/plain": [
       "['Tokyo',\n",
       " 'Jakarta',\n",
       " 'Delhi',\n",
       " 'Guangzhou',\n",
       " 'Mumbai',\n",
       " 'Manila',\n",
       " 'Shanghai',\n",
       " 'Sao Paulo',\n",
       " 'Seoul',\n",
       " 'Mexico City']"
      ]
     },
     "execution_count": 3,
     "metadata": {},
     "output_type": "execute_result"
    }
   ],
   "source": [
    "# Load file and take only the second column, which is called \"city_ascii\" - so simple city names\n",
    "# Load file and take only the second column, which is called \"city_ascii\" - so simple city names\n",
    "city_names = [row.split(\",\")[1].replace('\"', \"\") for row in open(\"worldcities.csv\").readlines()][1:]  # don't take header row\n",
    "city_names[:10]\n",
    "\n",
    "\n",
    "# Use code below to only use cities from a specific country\n",
    "# COUNTRY_LIST = [\"finland\", \"sweden\", \"norway\"]\n",
    "# city_names = []\n",
    "# rows = [row for row in open(\"worldcities.csv\").readlines()]\n",
    "# for row in rows:\n",
    "#   parts = row.split(\",\")\n",
    "#   city = parts[1].replace('\"', \"\")\n",
    "#   country = parts[4].replace('\"', \"\")\n",
    "#   if country.lower() not in COUNTRY_LIST:\n",
    "#     continue\n",
    "#   else:\n",
    "#     print(f\"{country} -> {city}\")\n",
    "#   city_names.append(city.lower())\n",
    "#   #city_names = city_names[1:]  # don't take header row's value\n",
    "# city_names[:10]"
   ]
  },
  {
   "cell_type": "code",
   "execution_count": 4,
   "id": "2c03aaec",
   "metadata": {
    "ExecuteTime": {
     "end_time": "2023-05-30T21:32:31.689683Z",
     "start_time": "2023-05-30T21:32:31.639906Z"
    }
   },
   "outputs": [
    {
     "name": "stdout",
     "output_type": "stream",
     "text": [
      "ascii_lowercase='abcdefghijklmnopqrstuvwxyz'\n",
      "allowed_chars=' abcdefghijklmnopqrstuvwxyz'\n",
      "all_chars='. abcdefghijklmnopqrstuvwxyz'\n",
      "\n",
      "Cleaned up cities: \n",
      "['tokyo.', 'jakarta.', 'delhi.', 'guangzhou.', 'mumbai.', 'manila.', 'shanghai.', 'sao paulo.', 'seoul.', 'mexico city.', 'cairo.', 'new york.', 'dhaka.', 'beijing.', 'kolkata.']\n",
      "Total num valid chars = 28\n",
      "stoi={'.': 0, ' ': 1, 'a': 2, 'b': 3, 'c': 4, 'd': 5, 'e': 6, 'f': 7, 'g': 8, 'h': 9, 'i': 10, 'j': 11, 'k': 12, 'l': 13, 'm': 14, 'n': 15, 'o': 16, 'p': 17, 'q': 18, 'r': 19, 's': 20, 't': 21, 'u': 22, 'v': 23, 'w': 24, 'x': 25, 'y': 26, 'z': 27}\n",
      "itos={0: '.', 1: ' ', 2: 'a', 3: 'b', 4: 'c', 5: 'd', 6: 'e', 7: 'f', 8: 'g', 9: 'h', 10: 'i', 11: 'j', 12: 'k', 13: 'l', 14: 'm', 15: 'n', 16: 'o', 17: 'p', 18: 'q', 19: 'r', 20: 's', 21: 't', 22: 'u', 23: 'v', 24: 'w', 25: 'x', 26: 'y', 27: 'z'}\n"
     ]
    }
   ],
   "source": [
    "# We need a special characters to denote the start and end of a city name\n",
    "SPACE = \" \"\n",
    "start_end_char = \".\"\n",
    "allowed_chars = SPACE + ascii_lowercase\n",
    "all_chars = start_end_char + allowed_chars\n",
    "\n",
    "print(f\"{ascii_lowercase=}\")\n",
    "print(f\"{allowed_chars=}\")\n",
    "print(f\"{all_chars=}\")\n",
    "\n",
    "print()\n",
    "\n",
    "# Clean up the names a little bit\n",
    "_cities = [name.strip().lower() for name in city_names]\n",
    "\n",
    "# Remove characters that we don't want to allow\n",
    "cities = []\n",
    "for city in _cities:\n",
    "    clean_city = \"\".join(ch for ch in city if ch in allowed_chars)\n",
    "    # print(city, \" -> \", clean_city)\n",
    "    cities.append(clean_city)\n",
    "    \n",
    "# Include start/end token\n",
    "# We don't start city names with \".\" here anymore, as the context block will be filled with them instead\n",
    "# cities = [start_end_char + city + start_end_char for city in cities]\n",
    "cities = [city + start_end_char for city in cities]\n",
    "print(f\"Cleaned up cities: \\n{cities[:15]}\")\n",
    "\n",
    "# We will also allow start_end_char\n",
    "num_classes = len(all_chars)\n",
    "print(f\"Total num valid chars = {num_classes}\")\n",
    "\n",
    "# Create simple mapping between each string char and its integer index\n",
    "stoi = {c:i for i, c in enumerate(all_chars)}\n",
    "itos = {i:c for c, i in stoi.items()}\n",
    "\n",
    "print(f\"{stoi=}\")\n",
    "print(f\"{itos=}\")"
   ]
  },
  {
   "cell_type": "code",
   "execution_count": 5,
   "id": "71212f17",
   "metadata": {
    "ExecuteTime": {
     "end_time": "2023-05-30T21:32:39.634370Z",
     "start_time": "2023-05-30T21:32:39.629414Z"
    }
   },
   "outputs": [],
   "source": [
    "def build_dataset(words, block_size=3):\n",
    "  \"\"\"Create samples mapping block_size input to target character.\"\"\"\n",
    "  X, Y = [], []\n",
    "  for w in words:\n",
    "    context = [0] * block_size\n",
    "    for ch in w:\n",
    "      ix = stoi[ch]\n",
    "      X.append(context)\n",
    "      Y.append(ix)\n",
    "      \n",
    "      context = context[1:] + [ix]\n",
    "      \n",
    "  X = torch.tensor(X)\n",
    "  Y = torch.tensor(Y)\n",
    "  print(X.shape, Y.shape)\n",
    "  return X, Y"
   ]
  },
  {
   "cell_type": "code",
   "execution_count": 7,
   "id": "a989e17c",
   "metadata": {
    "ExecuteTime": {
     "end_time": "2023-05-30T21:33:52.302332Z",
     "start_time": "2023-05-30T21:33:51.576066Z"
    }
   },
   "outputs": [
    {
     "name": "stdout",
     "output_type": "stream",
     "text": [
      "torch.Size([359048, 8]) torch.Size([359048])\n",
      "torch.Size([44666, 8]) torch.Size([44666])\n",
      "torch.Size([44895, 8]) torch.Size([44895])\n"
     ]
    }
   ],
   "source": [
    "random.seed(34545)\n",
    "random.shuffle(cities)\n",
    "num_words = len(cities)\n",
    "n1 = int(0.8 * num_words)\n",
    "n2 = int(0.9 * num_words)\n",
    "\n",
    "WINDOW = 8\n",
    "\n",
    "Xtr, Ytr = build_dataset(cities[:n1], block_size=WINDOW)\n",
    "Xdev, Ydev = build_dataset(cities[n1:n2], block_size=WINDOW)\n",
    "Xte, Yte = build_dataset(cities[n2:], block_size=WINDOW)"
   ]
  },
  {
   "cell_type": "code",
   "execution_count": 18,
   "id": "be4b8036",
   "metadata": {
    "ExecuteTime": {
     "end_time": "2023-05-30T21:36:23.183949Z",
     "start_time": "2023-05-30T21:36:23.172760Z"
    }
   },
   "outputs": [
    {
     "name": "stdout",
     "output_type": "stream",
     "text": [
      "    Context    | target \n",
      "------------------------\n",
      "   ........    |  p  \n",
      "   .......p    |  o  \n",
      "   ......po    |  r  \n",
      "   .....por    |  k  \n",
      "   ....pork    |  h  \n",
      "   ...porkh    |  o  \n",
      "   ..porkho    |  v  \n",
      "   .porkhov    |  .  \n",
      "   ........    |  d  \n",
      "   .......d    |  a  \n",
      "   ......da    |  q  \n",
      "   .....daq    |  i  \n",
      "   ....daqi    |  n  \n",
      "   ...daqin    |  g  \n",
      "   ..daqing    |  .  \n"
     ]
    }
   ],
   "source": [
    "print(\"    Context    | target \")\n",
    "print(\"------------------------\")\n",
    "for x, y in zip(Xtr[:15], Ytr[:15]):\n",
    "  context = \"\".join(itos[i.tolist()] for i in x)\n",
    "  target = itos[y.tolist()]\n",
    "  print(f\"{context:^15}|{target:^5}\")"
   ]
  },
  {
   "cell_type": "markdown",
   "id": "23cf0a06",
   "metadata": {},
   "source": [
    "## Define modules\n",
    "\n",
    "Create building blocks that we can stack together.\n",
    "\n",
    "Mirrors the torch API, with many simplifications."
   ]
  },
  {
   "cell_type": "code",
   "execution_count": 89,
   "id": "78c93ccc",
   "metadata": {
    "ExecuteTime": {
     "end_time": "2023-05-30T22:50:54.813390Z",
     "start_time": "2023-05-30T22:50:54.795822Z"
    }
   },
   "outputs": [],
   "source": [
    "class Linear:\n",
    "  \"\"\"Fully connected linear layer, without an activation.\"\"\"\n",
    "  \n",
    "  def __init__(self, fan_in: int, fan_out: int, bias=True) -> None:\n",
    "    \"\"\"Initialise the weights of the layer\"\"\"    \n",
    "    self.weight = torch.randn((fan_in, fan_out), dtype=torch.float32) / fan_in**0.5 # K.He normalisation\n",
    "    self.bias = torch.zeros(fan_out) if bias else None\n",
    "    \n",
    "  def __call__(self, x: torch.Tensor) -> torch.Tensor:\n",
    "    \"\"\"Perform `y = x @ w + b`.\"\"\"\n",
    "    self.out = x @ self.weight\n",
    "    if self.bias is not None:\n",
    "      self.out += self.bias\n",
    "\n",
    "    return self.out\n",
    "  \n",
    "  def parameters(self) -> list[torch.Tensor]:\n",
    "    \"\"\"Provide a list of the (tensor) parameters held within this module.\"\"\"\n",
    "    if self.bias is None:\n",
    "      return [self.weight]\n",
    "    return [self.weight, self.bias]\n",
    "\n",
    "\n",
    "class BatchNorm1d:\n",
    "  \"\"\"Batch normalisation for 1D input tensors, as per Ioffe & Szegedy.\n",
    "  \n",
    "  BatchNorm1 normalises a batch across the *features* of a batch. for example:\n",
    "  x = [[0, 1, 2, 3, 4],\n",
    "       [5, 6, 7, 8, 9],\n",
    "       [7, 5, 3, 1, 0]]     shape: (3, 5) -> (batch_size, num_features)\n",
    "       \n",
    "  We normalise across feature_i over the batch, so for feature 0, we have: f_0 = x[:, 0]\n",
    "    - f_0_mean = (0 + 5 + 7)/3\n",
    "    - f_0_var = 1/3 * sum((f_0 - f_0_mean)**2)\n",
    "    \n",
    "  Then the normalisations step:\n",
    "  \n",
    "  f_0_norm = (f_0 - f_0_mean) * (f_0_var + eps)**-0.5\n",
    "  \n",
    "  Finally the gain (gamma) and bias (beta) parameters are brought in:\n",
    "  \n",
    "  f_0_out = gamma * f_0_norm + beta\n",
    "  \n",
    "  This is performed over all features. We also keep an exponentially weighted moving average of the mean and var.\n",
    "  During inference, we do not update those numbers, but do use them instead of the inference batch's own stats.\n",
    "  \"\"\"\n",
    "  \n",
    "  def __init__(self, num_features: int, eps: float = 1e-6, momentum: float = 0.1) -> None:\n",
    "    \"\"\"Initialise all variables including - NOTE: this layer is stateful.\"\"\"\n",
    "    self.num_features = num_features\n",
    "    self.eps = eps\n",
    "    self.momentum = momentum\n",
    "    self.training = True  # we must know in which state we are in; different behaviour in train vs inference mode\n",
    "    \n",
    "    # These are updated during the forward pass only, do not have gradients.\n",
    "    self.running_mean = torch.zeros(num_features)\n",
    "    self.running_var = torch.ones(num_features)\n",
    "    # These are updated during training, forward & backward pass\n",
    "    self.gamma = torch.ones(num_features)\n",
    "    self.beta = torch.zeros(num_features)    \n",
    "    \n",
    "  def __call__(self, x: torch.Tensor) -> torch.Tensor:\n",
    "    \"\"\"Perform batch normalisation as per \"\"\"\n",
    "\n",
    "    if self.training:\n",
    "      # Compute batch stats across the features\n",
    "      # This is where we mingle statistics across samples in the batch! Not good!\n",
    "      \n",
    "      # Deal with both 2d and 3d inputs (just for implementation of WaveNet - otherwise consider nn.BatchNorm2D)\n",
    "      if x.ndim == 2:\n",
    "        dim = 0\n",
    "      elif x.ndim == 3:\n",
    "        dim = (0, 1)\n",
    "      else:\n",
    "        raise ValueError(f\"Input to BatchNorm must be 2d or 3d tensor, got {x.shape}\")\n",
    "\n",
    "      bmean = x.mean(dim, keepdim=True)\n",
    "      bvar = x.var(dim, keepdim=True)\n",
    "      \n",
    "      with torch.no_grad():\n",
    "        # the initial 1d running_mean/running_var tensors are broadcasted up according to bmean and bvar.\n",
    "        self.running_mean = ((1 - self.momentum) * self.running_mean) + self.momentum * bmean\n",
    "        self.running_var = ((1 - self.momentum) * self.running_var) + self.momentum * bvar\n",
    "\n",
    "    else:\n",
    "      bmean = self.running_mean\n",
    "      bvar = self.running_var\n",
    "\n",
    "    xhat = (x - bmean) * (bvar + self.eps)**-0.5\n",
    "    self.out = self.gamma * xhat + self.beta\n",
    "\n",
    "    return self.out\n",
    "  \n",
    "  def parameters(self) -> list[torch.Tensor]:\n",
    "    \"\"\"Return a list of all parameters of this layer.\"\"\"\n",
    "    return [self.gamma, self.beta]\n",
    "\n",
    "\n",
    "class Tanh:\n",
    "  \"\"\"Implement the element-wise tanh operation manually as a module.\"\"\"\n",
    "  \n",
    "  def __init__(self):\n",
    "    pass\n",
    "  \n",
    "  def __call__(self, x):\n",
    "    self.out = torch.tanh(x)\n",
    "    #exp_2x = torch.exp(2*x)\n",
    "    #self.out = (exp_2x -1) * (exp_2x + 1)**-1\n",
    "    return self.out\n",
    "  \n",
    "  def parameters(self):\n",
    "    return []\n",
    "\n",
    "  \n",
    "class Embedding:\n",
    "  \"\"\"Perform the lookup of a input samples into their corresponding embedding vectors - an indexing operation.\"\"\"\n",
    "\n",
    "  def __init__(self, num_embeddings: int, embedding_dim: int) -> None:\n",
    "    \"\"\"Perform initialisation.\"\"\"\n",
    "    self.embed = torch.randn((num_embeddings, embedding_dim))\n",
    "\n",
    "  def __call__(self, indices: torch.Tensor) -> torch.Tensor:\n",
    "    \"\"\"Perform the lookup into the embedding lookup table, returning vectors corresponding to input indices\"\"\"\n",
    "    self.out = self.embed[indices]\n",
    "    return self.out\n",
    "  \n",
    "  def parameters(self):\n",
    "    return [self.embed]\n",
    "  \n",
    "\n",
    "class Flatten:\n",
    "  \"\"\"Make a tensor 1 dimensional by `view`-ing it as such.\"\"\"\n",
    "\n",
    "  def __call__(self, x):\n",
    "    return x.view(x.shape[0], -1)\n",
    "\n",
    "  def parameters(self):\n",
    "    return []\n",
    "\n",
    "  \n",
    "class FlattenConsecutive:\n",
    "  \"\"\"Flatten inputs into single vectors, but only for a consecutive number of elements.\n",
    "  \n",
    "  We are fusing together neighbouring letters into groups, then fusing those groups into bigger groups.\n",
    "  This is the idea from the WaveNet paper (deepmind 2016): https://arxiv.org/pdf/1609.03499.pdf\n",
    "  \n",
    "  The groupings of consecutive elements are stored in a new dimension, akin to a sub-batch dimension.\n",
    "  \n",
    "  Example input shape:\n",
    "    (batch, window, embed_dim)\n",
    "  In standard flatten, we wanted to concatenate all feature elements into single vectors:\n",
    "    (batch, window*embed_dim)\n",
    "  Now we want to take n consecutive elements of the window, and concatenate only their features:\n",
    "    (batch, window//n, embed_dim*n)  -- could also see it as:\n",
    "    (batch, num_consecutive_groups, group_vector_size)\n",
    "  \"\"\"\n",
    "\n",
    "  def __init__(self, n: int) -> None:\n",
    "    \"\"\"Initialise.\"\"\"\n",
    "    self.n = n\n",
    "\n",
    "  def __call__(self, x):\n",
    "    # batch, window, embed_dim\n",
    "    B, T, C = x.shape\n",
    "    num_groups = T // self.n\n",
    "    group_emb = C * self.n\n",
    "    x = x.view(B, num_groups, group_emb)\n",
    "    if num_groups == 1:\n",
    "      x = x.squeeze(dim=1)\n",
    "\n",
    "    self.out = x\n",
    "    return self.out\n",
    "\n",
    "  def parameters(self):\n",
    "    return []\n",
    "\n",
    "  \n",
    "class Sequential:\n",
    "  \"\"\"A container to hold the list of layers of a model and perform a forward pass.\"\"\"\n",
    "  \n",
    "  def __init__(self, layers) -> None:\n",
    "    \"\"\"Initialise the sequntial model.\"\"\"\n",
    "    self.layers = layers\n",
    "    \n",
    "  def __call__(self, x) -> torch.Tensor:\n",
    "    \"\"\"Perform the forward pass through the layers of the defined sequential model.\"\"\"\n",
    "    for layer in self.layers:\n",
    "      x = layer(x)\n",
    "    self.out = x\n",
    "\n",
    "    return self.out\n",
    "    \n",
    "  def zero_grads(self) -> None:\n",
    "    \"\"\"Set gradients of all model parameters to zero.\"\"\"\n",
    "    for p in self.parameters():\n",
    "      p.grad = None\n",
    "      \n",
    "  def training_mode(self):\n",
    "    \"\"\"Set training flag to True on all model parameters.\"\"\"\n",
    "    for layer in self.layers:\n",
    "      layer.training = True\n",
    "      \n",
    "  def inference_mode(self):\n",
    "    \"\"\"Set training flag to False on all model parameters.\"\"\"\n",
    "    for layer in self.layers:\n",
    "      layer.training = False\n",
    "\n",
    "  def parameters(self) -> int:\n",
    "    \"\"\"Return the parameters of the sequential class model.\"\"\"\n",
    "    return [p for layer in self.layers for p in layer.parameters()]"
   ]
  },
  {
   "cell_type": "markdown",
   "id": "b6d15d2d",
   "metadata": {},
   "source": [
    "## Model"
   ]
  },
  {
   "cell_type": "code",
   "execution_count": 94,
   "id": "b70f5175",
   "metadata": {
    "ExecuteTime": {
     "end_time": "2023-05-30T22:51:20.462093Z",
     "start_time": "2023-05-30T22:51:20.452659Z"
    }
   },
   "outputs": [
    {
     "name": "stdout",
     "output_type": "stream",
     "text": [
      "Total num parameters: 171108\n"
     ]
    }
   ],
   "source": [
    "torch.manual_seed(739165)\n",
    "\n",
    "n_embed = 10\n",
    "n_hidden = 200\n",
    "vocab_size = 28\n",
    "\n",
    "model = Sequential(\n",
    "  layers = [\n",
    "    Embedding(num_embeddings=vocab_size, embedding_dim=n_embed),\n",
    "    FlattenConsecutive(n=2), Linear(n_embed * 2, n_hidden, bias=False), BatchNorm1d(n_hidden), Tanh(),\n",
    "    FlattenConsecutive(n=2), Linear(n_hidden * 2, n_hidden, bias=False), BatchNorm1d(n_hidden), Tanh(),\n",
    "    FlattenConsecutive(n=2), Linear(n_hidden * 2, n_hidden, bias=False), BatchNorm1d(n_hidden), Tanh(),\n",
    "    Linear(n_hidden, vocab_size)\n",
    "  ])\n",
    "\n",
    "with torch.no_grad():\n",
    "  model.layers[-1].weight *= 0.1  # make the last layer start with low confidence on predictions\n",
    "  \n",
    "print(f\"Total num parameters: {sum(param.numel() for param in model.parameters())}\")\n",
    "\n",
    "for p in model.parameters():\n",
    "  p.requires_grad = True"
   ]
  },
  {
   "cell_type": "code",
   "execution_count": 87,
   "id": "5ba2fd65",
   "metadata": {
    "ExecuteTime": {
     "end_time": "2023-05-30T22:49:29.623140Z",
     "start_time": "2023-05-30T22:49:29.620390Z"
    }
   },
   "outputs": [
    {
     "name": "stdout",
     "output_type": "stream",
     "text": [
      "Embedding            (32, 8, 10)\n",
      "FlattenConsecutive   (32, 4, 20)\n",
      "Linear               (32, 4, 200)\n",
      "BatchNorm1d          (32, 4, 200)\n",
      "Tanh                 (32, 4, 200)\n",
      "FlattenConsecutive   (32, 2, 400)\n",
      "Linear               (32, 2, 200)\n",
      "BatchNorm1d          (32, 2, 200)\n",
      "Tanh                 (32, 2, 200)\n",
      "FlattenConsecutive   (32, 400)\n",
      "Linear               (32, 200)\n",
      "BatchNorm1d          (32, 200)\n",
      "Tanh                 (32, 200)\n",
      "Linear               (32, 28)\n"
     ]
    }
   ],
   "source": [
    "for layer in model.layers:\n",
    "  print(f\"{layer.__class__.__name__:<20} {tuple(layer.out.shape)}\")"
   ]
  },
  {
   "cell_type": "markdown",
   "id": "c9dbb7e9",
   "metadata": {},
   "source": [
    "## Training"
   ]
  },
  {
   "cell_type": "code",
   "execution_count": 95,
   "id": "35a64c1e",
   "metadata": {
    "ExecuteTime": {
     "end_time": "2023-05-30T23:17:10.129637Z",
     "start_time": "2023-05-30T22:51:53.190647Z"
    }
   },
   "outputs": [
    {
     "name": "stdout",
     "output_type": "stream",
     "text": [
      "\n",
      "Training...\n",
      "\n",
      "[     0] loss= 3.3248\t\t\t\tTraining time:  0m  0s\n",
      "[ 20000] loss= 2.4101\t\t\t\tTraining time:  0m 44s\n",
      "[ 40000] loss= 2.1450\t\t\t\tTraining time:  1m 29s\n",
      "[ 60000] loss= 2.2722\t\t\t\tTraining time:  2m 14s\n",
      "[ 80000] loss= 2.0511\t\t\t\tTraining time:  2m 59s\n",
      "[100000] loss= 2.1042\t\t\t\tTraining time:  3m 44s\n",
      "[120000] loss= 1.9991\t\t\t\tTraining time:  4m 28s\n",
      "[140000] loss= 1.9799\t\t\t\tTraining time:  5m 13s\n",
      "[160000] loss= 1.9624\t\t\t\tTraining time:  5m 58s\n",
      "[180000] loss= 2.2706\t\t\t\tTraining time:  6m 42s\n",
      "[200000] loss= 1.9146\t\t\t\tTraining time:  7m 27s\n",
      "[220000] loss= 2.1798\t\t\t\tTraining time:  8m 11s\n",
      "[240000] loss= 1.8350\t\t\t\tTraining time:  8m 56s\n",
      "[260000] loss= 1.7127\t\t\t\tTraining time:  9m 40s\n",
      "[280000] loss= 1.9284\t\t\t\tTraining time: 10m 24s\n",
      "[300000] loss= 2.0161\t\t\t\tTraining time: 11m  9s\n",
      "[320000] loss= 2.3522\t\t\t\tTraining time: 11m 53s\n",
      "[340000] loss= 1.8622\t\t\t\tTraining time: 12m 37s\n",
      "[360000] loss= 1.7780\t\t\t\tTraining time: 13m 21s\n",
      "[380000] loss= 1.9096\t\t\t\tTraining time: 14m  5s\n",
      "[400000] loss= 1.7852\t\t\t\tTraining time: 14m 48s\n",
      "[420000] loss= 1.8258\t\t\t\tTraining time: 15m 31s\n",
      "[440000] loss= 2.0637\t\t\t\tTraining time: 16m 12s\n",
      "[460000] loss= 1.8843\t\t\t\tTraining time: 16m 54s\n",
      "[480000] loss= 1.7553\t\t\t\tTraining time: 17m 35s\n",
      "[500000] loss= 2.1108\t\t\t\tTraining time: 18m 17s\n",
      "[520000] loss= 2.3491\t\t\t\tTraining time: 18m 58s\n",
      "[540000] loss= 2.3261\t\t\t\tTraining time: 19m 39s\n",
      "[560000] loss= 2.2828\t\t\t\tTraining time: 20m 21s\n",
      "[580000] loss= 2.3678\t\t\t\tTraining time: 21m  2s\n",
      "[600000] loss= 2.1529\t\t\t\tTraining time: 21m 44s\n",
      "[620000] loss= 1.7743\t\t\t\tTraining time: 22m 26s\n",
      "[640000] loss= 1.7865\t\t\t\tTraining time: 23m  7s\n",
      "[660000] loss= 2.0488\t\t\t\tTraining time: 23m 49s\n",
      "[680000] loss= 1.9684\t\t\t\tTraining time: 24m 31s\n",
      "[699999] loss= 1.8495\t\t\t\tTraining time: 25m 13s\n"
     ]
    },
    {
     "data": {
      "image/png": "[encoded data removed]",
      "text/plain": [
       "<Figure size 1500x500 with 1 Axes>"
      ]
     },
     "metadata": {},
     "output_type": "display_data"
    }
   ],
   "source": [
    "# Model definition ###################################################\n",
    "g = torch.Generator().manual_seed(214748)\n",
    "\n",
    "batch_size = 32\n",
    "# Create an embedding tensor (latent embedding) for our characters\n",
    "embedding_dim = 20\n",
    "h_dim = 640\n",
    "num_inputs = WINDOW * embedding_dim  # 'window' embeddings per sample + 'embedding_dim' values per embedding\n",
    "  \n",
    "# To track stats\n",
    "losses = []\n",
    "batches = []\n",
    "start_time_s = time.perf_counter()\n",
    "\n",
    "print(\"\\nTraining...\\n\")\n",
    "\n",
    "# Minibatch gradient descent\n",
    "b = len(batches)\n",
    "n_steps = 700_000\n",
    "\n",
    "model.training_mode()  # ensure model is ready for training\n",
    "\n",
    "for batch in range(b, b + n_steps):\n",
    "\n",
    "  # Create a minibatch\n",
    "  ix = torch.randint(0, Xtr.shape[0], size=(batch_size,))\n",
    "  Xb, Yb = Xtr[ix], Ytr[ix]\n",
    "\n",
    "  # forward pass\n",
    "  logits = model(Xb)\n",
    "\n",
    "  # compute loss\n",
    "  loss = F.cross_entropy(logits, Yb)\n",
    "\n",
    "  # backward pass\n",
    "  model.zero_grads()\n",
    "  loss.backward()  # computes gradients\n",
    "\n",
    "  # Select learning rate\n",
    "  phase1 = 100_000\n",
    "  phase2 = 200_000\n",
    "  phase3 = 300_000\n",
    "  phase4 = 400_000\n",
    "  phase5 = 500_000\n",
    "  # Parameter update\n",
    "  nb = len(batches)\n",
    "  if nb < phase1:\n",
    "    lr = 0.1\n",
    "  elif nb < phase2:\n",
    "    lr = 0.01\n",
    "  elif nb < phase3:\n",
    "    lr = 0.0075\n",
    "  elif nb < phase4:\n",
    "    lr = 0.005\n",
    "  elif nb < phase5:\n",
    "    lr = 0.0025\n",
    "  else:\n",
    "    lr = 0.001\n",
    "\n",
    "  # Perform weight updates\n",
    "  for p in model.parameters():\n",
    "    p.data += -lr * p.grad\n",
    "\n",
    "  if batch % 20000 == 0:\n",
    "    run_time_s = time.perf_counter() - start_time_s\n",
    "    mins, secs = int(run_time_s // 60), int(run_time_s % 60)\n",
    "    print(f\"[{batch:>6}] {loss=:>7.4f}\\t\\t\\t\\tTraining time: {mins:2d}m {secs:2d}s\")\n",
    "\n",
    "  batches.append(batch)\n",
    "  losses.append(loss.log10().item())\n",
    "\n",
    "run_time_s = time.perf_counter() - start_time_s\n",
    "mins, secs = int(run_time_s // 60), int(run_time_s % 60)\n",
    "print(f\"[{batch:>6}] {loss=:>7.4f}\\t\\t\\t\\tTraining time: {mins:2d}m {secs:2d}s\")\n",
    "\n",
    "# Plotting code\n",
    "plt.figure(figsize=(15, 5))\n",
    "plt.plot(batches[:phase1], losses[:phase1], c=\"r\", label=\"phase1\")\n",
    "plt.plot(batches[phase1:phase2], losses[phase1:phase2], c=\"g\", label=\"phase2\")\n",
    "plt.plot(batches[phase2:phase3], losses[phase2:phase3], c=\"b\", label=\"phase3\")\n",
    "plt.plot(batches[phase3:phase4], losses[phase3:phase4], c=\"k\", label=\"phase4\")\n",
    "\n",
    "if len(batches) > phase4:\n",
    "  plt.plot(batches[phase4:], losses[phase4:], c=\"gray\", label=\"end phase\")\n",
    "\n",
    "rolling_mean = pd.DataFrame(losses, columns=[\"losses\"]).rolling(1000).mean()\n",
    "plt.plot(batches, rolling_mean.values, c=\"gold\", label=\"rolling mean\")\n",
    "\n",
    "min_loss_x, min_loss_y = torch.min(torch.tensor(rolling_mean.dropna().values), 0)\n",
    "plt.scatter(min_loss_y.data.item(), min_loss_x.item(), label=\"best\", c=\"teal\", edgecolor=\"k\", s=50, zorder=2)\n",
    "\n",
    "plt.legend()\n",
    "plt.xlabel(\"Batch number\")\n",
    "plt.ylabel(\"Log-loss\")\n",
    "plt.title(\"Log-loss over training batches\");"
   ]
  },
  {
   "cell_type": "markdown",
   "id": "8135c3d7",
   "metadata": {},
   "source": [
    "## Metrics"
   ]
  },
  {
   "cell_type": "code",
   "execution_count": 96,
   "id": "0273d580",
   "metadata": {
    "ExecuteTime": {
     "end_time": "2023-05-30T23:21:41.806303Z",
     "start_time": "2023-05-30T23:21:39.538148Z"
    }
   },
   "outputs": [
    {
     "name": "stdout",
     "output_type": "stream",
     "text": [
      "Full loss train  2.016166\n",
      "Full loss val    2.228423\n",
      "Full loss test   2.224412\n"
     ]
    }
   ],
   "source": [
    "@torch.no_grad()\n",
    "def split_loss(model: Sequential, split: str) -> None:\n",
    "  \"\"\"Compute and print the loss of the model for the named split of the dataset: {train, val, test}.\"\"\"\n",
    "  x, y = {\n",
    "    \"train\": (Xtr, Ytr),\n",
    "    \"val\":   (Xdev, Ydev),\n",
    "    \"test\":  (Xte, Yte),\n",
    "  }[split]\n",
    "\n",
    "  # Make sure we are not longer in training state -> inference mode for metrics\n",
    "  model.inference_mode()\n",
    "  logits = model(x)\n",
    "  loss = F.cross_entropy(input=logits, target=y)  # Compute the loss (posed as binary classification)\n",
    "  print(f\"Full loss {split:<6} {loss:>8.6f}\")\n",
    "\n",
    "split_loss(model, \"train\")\n",
    "split_loss(model, \"val\")\n",
    "split_loss(model, \"test\")\n",
    "\n",
    "# Training with 20k parameters for 500k steps  (from lecture 4 with manual backprop)\n",
    "# Full loss train  2.359250\n",
    "# Full loss val    2.388760\n",
    "# Full loss test   2.373373\n",
    "\n",
    "# Training with 85k parameters for 700k steps  (from lecture 4 with manual backprop)\n",
    "# Full loss train  2.304820\n",
    "# Full loss val    2.348817\n",
    "# Full loss test   2.336866\n",
    "\n",
    "# Training with 22k parameters for 700k steps, context window of 8 characters\n",
    "# Scale up the context WINDOW length to 8 to measure baseline performance. It beats smaller cxt window above.\n",
    "# Full loss train  2.236601\n",
    "# Full loss val    2.313722  # overfitting\n",
    "# Full loss test   2.313969\n",
    "# Fixing batchnorm bug\n",
    "# Full loss train  2.238288\n",
    "# Full loss val    2.315836\n",
    "# Full loss test   2.315711\n",
    "\n",
    "# Implement basic WaveNet, fusing chars->bigrams, bigrams->4grams, 4grams->8grams\n",
    "# Train 700k steps\n",
    "# Full loss train  2.016166\n",
    "# Full loss val    2.228423\n",
    "# Full loss test   2.224412"
   ]
  },
  {
   "cell_type": "code",
   "execution_count": 98,
   "id": "106ff193",
   "metadata": {
    "ExecuteTime": {
     "end_time": "2023-05-30T23:22:32.850917Z",
     "start_time": "2023-05-30T23:22:32.649784Z"
    }
   },
   "outputs": [
    {
     "data": {
      "image/png": "[encoded data removed]",
      "text/plain": [
       "<Figure size 500x500 with 1 Axes>"
      ]
     },
     "metadata": {},
     "output_type": "display_data"
    }
   ],
   "source": [
    "C = model.layers[0].embed.clone()\n",
    "\n",
    "plt.figure(figsize=(5, 5))\n",
    "plt.scatter(C[:, 0].data, C[:, 1].data, s=300)\n",
    "for i in range(C.shape[0]):\n",
    "  plt.text(C[i, 0].item(), C[i, 1].item(), s=itos[i], ha=\"center\", va=\"center\", color=\"white\", size=10)\n",
    "\n",
    "plt.grid(color=\"gray\", alpha=0.3)"
   ]
  },
  {
   "cell_type": "markdown",
   "id": "06fa8ec4",
   "metadata": {},
   "source": [
    "### Inference"
   ]
  },
  {
   "cell_type": "code",
   "execution_count": 104,
   "id": "c8750b4a",
   "metadata": {
    "ExecuteTime": {
     "end_time": "2023-05-30T23:26:22.141346Z",
     "start_time": "2023-05-30T23:26:22.133985Z"
    }
   },
   "outputs": [
    {
     "data": {
      "text/plain": [
       "(torch.Size([32, 8]), 8)"
      ]
     },
     "execution_count": 104,
     "metadata": {},
     "output_type": "execute_result"
    }
   ],
   "source": [
    "Xb.shape, context.__len__()"
   ]
  },
  {
   "cell_type": "code",
   "execution_count": 107,
   "id": "60a96764",
   "metadata": {
    "ExecuteTime": {
     "end_time": "2023-05-30T23:28:52.670778Z",
     "start_time": "2023-05-30T23:28:52.665977Z"
    }
   },
   "outputs": [
    {
     "data": {
      "text/plain": [
       "torch.Size([8, 1])"
      ]
     },
     "execution_count": 107,
     "metadata": {},
     "output_type": "execute_result"
    }
   ],
   "source": [
    "inputs.shape"
   ]
  },
  {
   "cell_type": "code",
   "execution_count": 108,
   "id": "7e7d474e",
   "metadata": {
    "ExecuteTime": {
     "end_time": "2023-05-30T23:29:03.833370Z",
     "start_time": "2023-05-30T23:29:03.760964Z"
    }
   },
   "outputs": [
    {
     "name": "stdout",
     "output_type": "stream",
     "text": [
      "[Word  0]: rasco                -- in dataset: False\n",
      "[Word  1]: auburu               -- in dataset: False\n",
      "[Word  2]: pauripur             -- in dataset: False\n",
      "[Word  3]: shahra               -- in dataset: False\n",
      "[Word  4]: villa lucin          -- in dataset: False\n",
      "[Word  5]: acambondur           -- in dataset: False\n",
      "[Word  6]: babar                -- in dataset: True\n",
      "[Word  7]: solvan               -- in dataset: False\n",
      "[Word  8]: copolay              -- in dataset: False\n",
      "[Word  9]: gerningcun           -- in dataset: False\n",
      "[Word 10]: san mangauaptim      -- in dataset: False\n",
      "[Word 11]: kaffrik              -- in dataset: False\n",
      "[Word 12]: thieta               -- in dataset: False\n",
      "[Word 13]: lumbidangiray        -- in dataset: False\n",
      "[Word 14]: pattipah             -- in dataset: False\n",
      "[Word 15]: obomiso              -- in dataset: False\n",
      "[Word 16]: funise adenbaera     -- in dataset: False\n",
      "[Word 17]: tirumpakuri          -- in dataset: False\n",
      "[Word 18]: sel abay             -- in dataset: False\n",
      "[Word 19]: corroppala           -- in dataset: False\n"
     ]
    }
   ],
   "source": [
    "for i in range(20): \n",
    "    \n",
    "  ix = stoi[start_end_char]\n",
    "  context = [ix] * WINDOW\n",
    "  new_word = []\n",
    "\n",
    "  while True:\n",
    "    model.inference_mode()\n",
    "\n",
    "    inputs = torch.tensor(context).view(1, -1)\n",
    "    logits = model(inputs)\n",
    "    probs = F.softmax(logits, dim=1)\n",
    "    ix = torch.multinomial(probs, num_samples=1, replacement=True, generator=g).item()\n",
    "    ch = itos[ix]\n",
    "    if ch == start_end_char:\n",
    "      break\n",
    "    new_word.append(ch)\n",
    "    context = context[1:] + [ix]\n",
    "\n",
    "  gen_city = ''.join(new_word)\n",
    "  print(f\"[Word {i:>2}]: {gen_city:<20} -- in dataset: {(gen_city + start_end_char) in cities}\")"
   ]
  },
  {
   "cell_type": "code",
   "execution_count": null,
   "id": "3ea25f4b",
   "metadata": {},
   "outputs": [],
   "source": []
  }
 ],
 "metadata": {
  "kernelspec": {
   "display_name": "Python 3 (ipykernel)",
   "language": "python",
   "name": "python3"
  },
  "language_info": {
   "codemirror_mode": {
    "name": "ipython",
    "version": 3
   },
   "file_extension": ".py",
   "mimetype": "text/x-python",
   "name": "python",
   "nbconvert_exporter": "python",
   "pygments_lexer": "ipython3",
   "version": "3.9.15"
  }
 },
 "nbformat": 4,
 "nbformat_minor": 5
}
